{
 "cells": [
  {
   "cell_type": "code",
   "execution_count": 1,
   "id": "63c52f8f-2865-48d0-9601-535cffca8a9f",
   "metadata": {},
   "outputs": [],
   "source": [
    "import numpy as np\n",
    "import pandas as pd\n",
    "\n",
    "import matplotlib.pyplot as plt\n",
    "import seaborn as sns\n",
    "\n",
    "import plotly.graph_objects as go\n",
    "from IPython.display import HTML\n",
    "\n",
    "import statistics\n",
    "\n",
    "pd.set_option('display.max_columns', None)"
   ]
  },
  {
   "cell_type": "markdown",
   "id": "616a9bae-035d-4df8-9090-3f3edcd8216e",
   "metadata": {},
   "source": [
    "# Importing the dataset"
   ]
  },
  {
   "cell_type": "markdown",
   "id": "a0eb9d35-b1d4-4d6e-927e-c6025955c0ef",
   "metadata": {},
   "source": [
    "Dataset Description: https://github.com/washingtonpost/data-police-shootings/tree/master/v2"
   ]
  },
  {
   "cell_type": "code",
   "execution_count": 2,
   "id": "4ac06272-a5da-4fa6-985b-44f6be070693",
   "metadata": {},
   "outputs": [
    {
     "name": "stdout",
     "output_type": "stream",
     "text": [
      "(8002, 17)\n"
     ]
    },
    {
     "data": {
      "text/html": [
       "<div>\n",
       "<style scoped>\n",
       "    .dataframe tbody tr th:only-of-type {\n",
       "        vertical-align: middle;\n",
       "    }\n",
       "\n",
       "    .dataframe tbody tr th {\n",
       "        vertical-align: top;\n",
       "    }\n",
       "\n",
       "    .dataframe thead th {\n",
       "        text-align: right;\n",
       "    }\n",
       "</style>\n",
       "<table border=\"1\" class=\"dataframe\">\n",
       "  <thead>\n",
       "    <tr style=\"text-align: right;\">\n",
       "      <th></th>\n",
       "      <th>id</th>\n",
       "      <th>name</th>\n",
       "      <th>date</th>\n",
       "      <th>manner_of_death</th>\n",
       "      <th>armed</th>\n",
       "      <th>age</th>\n",
       "      <th>gender</th>\n",
       "      <th>race</th>\n",
       "      <th>city</th>\n",
       "      <th>state</th>\n",
       "      <th>signs_of_mental_illness</th>\n",
       "      <th>threat_level</th>\n",
       "      <th>flee</th>\n",
       "      <th>body_camera</th>\n",
       "      <th>longitude</th>\n",
       "      <th>latitude</th>\n",
       "      <th>is_geocoding_exact</th>\n",
       "    </tr>\n",
       "  </thead>\n",
       "  <tbody>\n",
       "    <tr>\n",
       "      <th>0</th>\n",
       "      <td>3</td>\n",
       "      <td>Tim Elliot</td>\n",
       "      <td>2015-01-02</td>\n",
       "      <td>shot</td>\n",
       "      <td>gun</td>\n",
       "      <td>53.0</td>\n",
       "      <td>M</td>\n",
       "      <td>A</td>\n",
       "      <td>Shelton</td>\n",
       "      <td>WA</td>\n",
       "      <td>True</td>\n",
       "      <td>attack</td>\n",
       "      <td>Not fleeing</td>\n",
       "      <td>False</td>\n",
       "      <td>-123.122</td>\n",
       "      <td>47.247</td>\n",
       "      <td>True</td>\n",
       "    </tr>\n",
       "    <tr>\n",
       "      <th>1</th>\n",
       "      <td>4</td>\n",
       "      <td>Lewis Lee Lembke</td>\n",
       "      <td>2015-01-02</td>\n",
       "      <td>shot</td>\n",
       "      <td>gun</td>\n",
       "      <td>47.0</td>\n",
       "      <td>M</td>\n",
       "      <td>W</td>\n",
       "      <td>Aloha</td>\n",
       "      <td>OR</td>\n",
       "      <td>False</td>\n",
       "      <td>attack</td>\n",
       "      <td>Not fleeing</td>\n",
       "      <td>False</td>\n",
       "      <td>-122.892</td>\n",
       "      <td>45.487</td>\n",
       "      <td>True</td>\n",
       "    </tr>\n",
       "    <tr>\n",
       "      <th>2</th>\n",
       "      <td>5</td>\n",
       "      <td>John Paul Quintero</td>\n",
       "      <td>2015-01-03</td>\n",
       "      <td>shot and Tasered</td>\n",
       "      <td>unarmed</td>\n",
       "      <td>23.0</td>\n",
       "      <td>M</td>\n",
       "      <td>H</td>\n",
       "      <td>Wichita</td>\n",
       "      <td>KS</td>\n",
       "      <td>False</td>\n",
       "      <td>other</td>\n",
       "      <td>Not fleeing</td>\n",
       "      <td>False</td>\n",
       "      <td>-97.281</td>\n",
       "      <td>37.695</td>\n",
       "      <td>True</td>\n",
       "    </tr>\n",
       "    <tr>\n",
       "      <th>3</th>\n",
       "      <td>8</td>\n",
       "      <td>Matthew Hoffman</td>\n",
       "      <td>2015-01-04</td>\n",
       "      <td>shot</td>\n",
       "      <td>toy weapon</td>\n",
       "      <td>32.0</td>\n",
       "      <td>M</td>\n",
       "      <td>W</td>\n",
       "      <td>San Francisco</td>\n",
       "      <td>CA</td>\n",
       "      <td>True</td>\n",
       "      <td>attack</td>\n",
       "      <td>Not fleeing</td>\n",
       "      <td>False</td>\n",
       "      <td>-122.422</td>\n",
       "      <td>37.763</td>\n",
       "      <td>True</td>\n",
       "    </tr>\n",
       "    <tr>\n",
       "      <th>4</th>\n",
       "      <td>9</td>\n",
       "      <td>Michael Rodriguez</td>\n",
       "      <td>2015-01-04</td>\n",
       "      <td>shot</td>\n",
       "      <td>nail gun</td>\n",
       "      <td>39.0</td>\n",
       "      <td>M</td>\n",
       "      <td>H</td>\n",
       "      <td>Evans</td>\n",
       "      <td>CO</td>\n",
       "      <td>False</td>\n",
       "      <td>attack</td>\n",
       "      <td>Not fleeing</td>\n",
       "      <td>False</td>\n",
       "      <td>-104.692</td>\n",
       "      <td>40.384</td>\n",
       "      <td>True</td>\n",
       "    </tr>\n",
       "  </tbody>\n",
       "</table>\n",
       "</div>"
      ],
      "text/plain": [
       "   id                name       date   manner_of_death       armed   age  \\\n",
       "0   3          Tim Elliot 2015-01-02              shot         gun  53.0   \n",
       "1   4    Lewis Lee Lembke 2015-01-02              shot         gun  47.0   \n",
       "2   5  John Paul Quintero 2015-01-03  shot and Tasered     unarmed  23.0   \n",
       "3   8     Matthew Hoffman 2015-01-04              shot  toy weapon  32.0   \n",
       "4   9   Michael Rodriguez 2015-01-04              shot    nail gun  39.0   \n",
       "\n",
       "  gender race           city state  signs_of_mental_illness threat_level  \\\n",
       "0      M    A        Shelton    WA                     True       attack   \n",
       "1      M    W          Aloha    OR                    False       attack   \n",
       "2      M    H        Wichita    KS                    False        other   \n",
       "3      M    W  San Francisco    CA                     True       attack   \n",
       "4      M    H          Evans    CO                    False       attack   \n",
       "\n",
       "          flee  body_camera  longitude  latitude  is_geocoding_exact  \n",
       "0  Not fleeing        False   -123.122    47.247                True  \n",
       "1  Not fleeing        False   -122.892    45.487                True  \n",
       "2  Not fleeing        False    -97.281    37.695                True  \n",
       "3  Not fleeing        False   -122.422    37.763                True  \n",
       "4  Not fleeing        False   -104.692    40.384                True  "
      ]
     },
     "execution_count": 2,
     "metadata": {},
     "output_type": "execute_result"
    }
   ],
   "source": [
    "dataset = pd.read_excel('fatal-police-shootings-data 3.32.02 PM.xls')\n",
    "print(dataset.shape)\n",
    "\n",
    "dataset.head()"
   ]
  },
  {
   "cell_type": "markdown",
   "id": "bbff9c5a-4301-497e-8540-cdc99e760448",
   "metadata": {},
   "source": [
    "**1. name: The name of the victim.**<br>\n",
    "**2. date: The date of the fatal shooting.**<br>\n",
    "**3. manner_of_death: shot or shot and tasered.**<br>\n",
    "**4. armed: Indicates that the victim was armed.**<br>\n",
    "**5. age: Age of the victim.**<br>\n",
    "**6. gender: Gender of the victim.**<br>\n",
    "**7. race: race of the victim -> W: White, non-Hispanic, B: Black, non-Hispanic, A: Asian, N: Native American, H: Hispanic, O: Other, None: unknown**<br>\n",
    "**8. city: The municipality where the fatal shooting took place.**<br>\n",
    "**9. state: postal code abbreviation.**<br>\n",
    "**10. signs_of_mental_illness: News reports have indicated the victim had a history of mental health issues, expressed suicidal intentions or was experiencing mental distress at the time of the shooting.**<br>\n",
    "**11. threat_level: Used to classify incidents based on their perceived threat level, with \"attack\" being the highest level, while \"other\" and \"undetermined\" cover various other cases, including those with significant threats and situations where threat levels are not clearly specified.**<br>\n",
    "**12. flee: Victim was moving away from officers**<br>\n",
    "**13. body_camera: An officer was wearing a body camera and it may have recorded some portion of the incident.**<br>\n",
    "**14. latitude and longitude: The location of the shooting**<br>\n",
    "**15. is_geocoding_exact: Reflects the accuracy of the coordinates. true means that the coordinates are for the location of the shooting (within approximately 100 meters), while false means that coordinates are for the centroid of a larger region, such as the city or county where the shooting happened.**"
   ]
  },
  {
   "cell_type": "markdown",
   "id": "d1c524be-ff92-448f-a1ca-f0d4ab0b863b",
   "metadata": {},
   "source": [
    "# Descriptive Statistics"
   ]
  },
  {
   "cell_type": "code",
   "execution_count": 3,
   "id": "18b5bc19-3b3d-45d2-80f0-973056e09015",
   "metadata": {},
   "outputs": [
    {
     "data": {
      "text/html": [
       "<div>\n",
       "<style scoped>\n",
       "    .dataframe tbody tr th:only-of-type {\n",
       "        vertical-align: middle;\n",
       "    }\n",
       "\n",
       "    .dataframe tbody tr th {\n",
       "        vertical-align: top;\n",
       "    }\n",
       "\n",
       "    .dataframe thead th {\n",
       "        text-align: right;\n",
       "    }\n",
       "</style>\n",
       "<table border=\"1\" class=\"dataframe\">\n",
       "  <thead>\n",
       "    <tr style=\"text-align: right;\">\n",
       "      <th></th>\n",
       "      <th>id</th>\n",
       "      <th>date</th>\n",
       "      <th>age</th>\n",
       "      <th>longitude</th>\n",
       "      <th>latitude</th>\n",
       "    </tr>\n",
       "  </thead>\n",
       "  <tbody>\n",
       "    <tr>\n",
       "      <th>count</th>\n",
       "      <td>8002.000000</td>\n",
       "      <td>8002</td>\n",
       "      <td>7499.000000</td>\n",
       "      <td>7162.000000</td>\n",
       "      <td>7162.000000</td>\n",
       "    </tr>\n",
       "    <tr>\n",
       "      <th>mean</th>\n",
       "      <td>4415.429643</td>\n",
       "      <td>2019-01-12 00:00:10.797300992</td>\n",
       "      <td>37.209228</td>\n",
       "      <td>-97.040644</td>\n",
       "      <td>36.675719</td>\n",
       "    </tr>\n",
       "    <tr>\n",
       "      <th>min</th>\n",
       "      <td>3.000000</td>\n",
       "      <td>2015-01-02 00:00:00</td>\n",
       "      <td>2.000000</td>\n",
       "      <td>-160.007000</td>\n",
       "      <td>19.498000</td>\n",
       "    </tr>\n",
       "    <tr>\n",
       "      <th>25%</th>\n",
       "      <td>2240.250000</td>\n",
       "      <td>2017-01-18 00:00:00</td>\n",
       "      <td>27.000000</td>\n",
       "      <td>-112.028250</td>\n",
       "      <td>33.480000</td>\n",
       "    </tr>\n",
       "    <tr>\n",
       "      <th>50%</th>\n",
       "      <td>4445.500000</td>\n",
       "      <td>2019-01-25 00:00:00</td>\n",
       "      <td>35.000000</td>\n",
       "      <td>-94.315000</td>\n",
       "      <td>36.105000</td>\n",
       "    </tr>\n",
       "    <tr>\n",
       "      <th>75%</th>\n",
       "      <td>6579.750000</td>\n",
       "      <td>2021-01-21 00:00:00</td>\n",
       "      <td>45.000000</td>\n",
       "      <td>-83.151500</td>\n",
       "      <td>40.026750</td>\n",
       "    </tr>\n",
       "    <tr>\n",
       "      <th>max</th>\n",
       "      <td>8696.000000</td>\n",
       "      <td>2022-12-01 00:00:00</td>\n",
       "      <td>92.000000</td>\n",
       "      <td>-67.867000</td>\n",
       "      <td>71.301000</td>\n",
       "    </tr>\n",
       "    <tr>\n",
       "      <th>std</th>\n",
       "      <td>2497.153259</td>\n",
       "      <td>NaN</td>\n",
       "      <td>12.979490</td>\n",
       "      <td>16.524975</td>\n",
       "      <td>5.379965</td>\n",
       "    </tr>\n",
       "  </tbody>\n",
       "</table>\n",
       "</div>"
      ],
      "text/plain": [
       "                id                           date          age    longitude  \\\n",
       "count  8002.000000                           8002  7499.000000  7162.000000   \n",
       "mean   4415.429643  2019-01-12 00:00:10.797300992    37.209228   -97.040644   \n",
       "min       3.000000            2015-01-02 00:00:00     2.000000  -160.007000   \n",
       "25%    2240.250000            2017-01-18 00:00:00    27.000000  -112.028250   \n",
       "50%    4445.500000            2019-01-25 00:00:00    35.000000   -94.315000   \n",
       "75%    6579.750000            2021-01-21 00:00:00    45.000000   -83.151500   \n",
       "max    8696.000000            2022-12-01 00:00:00    92.000000   -67.867000   \n",
       "std    2497.153259                            NaN    12.979490    16.524975   \n",
       "\n",
       "          latitude  \n",
       "count  7162.000000  \n",
       "mean     36.675719  \n",
       "min      19.498000  \n",
       "25%      33.480000  \n",
       "50%      36.105000  \n",
       "75%      40.026750  \n",
       "max      71.301000  \n",
       "std       5.379965  "
      ]
     },
     "execution_count": 3,
     "metadata": {},
     "output_type": "execute_result"
    }
   ],
   "source": [
    "dataset.describe()"
   ]
  },
  {
   "cell_type": "markdown",
   "id": "b0acd0cd-b7b8-42f2-8ab4-b2bf214acc57",
   "metadata": {},
   "source": [
    "## Missing Data"
   ]
  },
  {
   "cell_type": "code",
   "execution_count": 4,
   "id": "525cff67-194d-4b26-bc4b-274c61569528",
   "metadata": {},
   "outputs": [
    {
     "name": "stdout",
     "output_type": "stream",
     "text": [
      "Total number of columns with missing data:  8\n",
      "i.e., 35.28% of the rows have missing values\n",
      "['name', 'armed', 'age', 'gender', 'race', 'flee', 'longitude', 'latitude']\n"
     ]
    }
   ],
   "source": [
    "columns_with_missing_data = [feature for feature in dataset.columns if dataset[feature].isnull().sum() > 0]\n",
    "\n",
    "print(\"Total number of columns with missing data: \", len(columns_with_missing_data))\n",
    "print(\"i.e., {:.2f}% of the rows have missing values\".format((len(dataset[dataset.isnull().any(axis = 1)]) / len(dataset))*100))\n",
    "print(columns_with_missing_data)"
   ]
  },
  {
   "cell_type": "code",
   "execution_count": 5,
   "id": "ed8c1c91-babc-4c67-83d5-f3b34ee6fff5",
   "metadata": {},
   "outputs": [
    {
     "name": "stdout",
     "output_type": "stream",
     "text": [
      "Missing values in percentages: \n"
     ]
    },
    {
     "data": {
      "text/plain": [
       "race         18.957761\n",
       "flee         12.071982\n",
       "longitude    10.497376\n",
       "latitude     10.497376\n",
       "age           6.285929\n",
       "name          5.673582\n",
       "armed         2.636841\n",
       "gender        0.387403\n",
       "dtype: float64"
      ]
     },
     "execution_count": 5,
     "metadata": {},
     "output_type": "execute_result"
    }
   ],
   "source": [
    "print(\"Missing values in percentages: \")\n",
    "dataset[columns_with_missing_data].isnull().sum().sort_values(ascending = False)*100 / len(dataset)"
   ]
  },
  {
   "cell_type": "markdown",
   "id": "60156e50-d4cf-4bf8-bcf9-5f22270baab1",
   "metadata": {},
   "source": [
    "# Unpacking the date column"
   ]
  },
  {
   "cell_type": "code",
   "execution_count": 6,
   "id": "9cd84598-fb2d-4ed2-a015-c204b54ec36f",
   "metadata": {},
   "outputs": [],
   "source": [
    "dataset['day'] = pd.to_datetime(dataset['date']).dt.day\n",
    "dataset['month'] = pd.to_datetime(dataset['date']).dt.month\n",
    "dataset['year'] = pd.to_datetime(dataset['date']).dt.year"
   ]
  },
  {
   "cell_type": "code",
   "execution_count": null,
   "id": "35aefc8f-f2b7-47b0-9868-03cce9cd9b70",
   "metadata": {},
   "outputs": [],
   "source": []
  },
  {
   "cell_type": "markdown",
   "id": "e6382fc5-b995-433b-b551-942cff6f1382",
   "metadata": {},
   "source": [
    "# YLL (Years of lives lost)"
   ]
  },
  {
   "cell_type": "markdown",
   "id": "50ef7445-4952-4446-aaed-181963cd1cf4",
   "metadata": {},
   "source": [
    "**References:**<br>\n",
    "**1. Life Expectancy (as per the year 2021): https://www.cdc.gov/nchs/data/vsrr/vsrr023.pdf**<br>"
   ]
  },
  {
   "cell_type": "code",
   "execution_count": 7,
   "id": "617a33a0-0202-4e1b-80ee-87ed1f347358",
   "metadata": {},
   "outputs": [
    {
     "data": {
      "text/plain": [
       "array(['A', 'W', 'H', 'B', 'O', nan, 'N'], dtype=object)"
      ]
     },
     "execution_count": 7,
     "metadata": {},
     "output_type": "execute_result"
    }
   ],
   "source": [
    "dataset.race.unique()"
   ]
  },
  {
   "cell_type": "markdown",
   "id": "132c6e8e-7a20-4705-933d-6bf3362f4e93",
   "metadata": {},
   "source": [
    "**race: W: White, non-Hispanic, B: Black, non-Hispanic, A: Asian, N: Native American, H: Hispanic, O: Other, None: unknown**"
   ]
  },
  {
   "cell_type": "code",
   "execution_count": 8,
   "id": "a1a32386-cd0e-4c11-9ed0-3ee1b57cc63f",
   "metadata": {},
   "outputs": [],
   "source": [
    "life_expectancy_2021 = {'W': {'M': 73.7, 'F': 79.2}, 'B': {'M': 66.7, 'F': 74.8},\n",
    "                   'A': {'M': 81.2, 'F': 85.6}, 'H': {'M': 74.4, 'F': 81.0}, 'O': {'M': 73.2, 'F': 79.1}}"
   ]
  },
  {
   "cell_type": "code",
   "execution_count": 9,
   "id": "8fdb1082-831d-4d8e-8441-3993aad728a2",
   "metadata": {},
   "outputs": [],
   "source": [
    "# Keeping only races W, B, A, H and O (Others). Replacing every other category as O.\n",
    "def replace_race_categories(race_category):\n",
    "    \n",
    "    if race_category == 'W':\n",
    "        return race_category\n",
    "        \n",
    "    elif race_category == 'B':\n",
    "        return race_category\n",
    "        \n",
    "    elif race_category == 'A':\n",
    "        return race_category\n",
    "        \n",
    "    elif race_category == 'H':\n",
    "        return race_category\n",
    "        \n",
    "    elif race_category == 'O':\n",
    "        return race_category\n",
    "        \n",
    "    else:\n",
    "        return 'O'"
   ]
  },
  {
   "cell_type": "code",
   "execution_count": 10,
   "id": "7fe3693e-1cbe-4c52-80e1-1c8c08d47f70",
   "metadata": {},
   "outputs": [
    {
     "data": {
      "text/plain": [
       "race\n",
       "W    3300\n",
       "B    1766\n",
       "H    1166\n",
       "A     129\n",
       "N     105\n",
       "O      19\n",
       "Name: count, dtype: int64"
      ]
     },
     "execution_count": 10,
     "metadata": {},
     "output_type": "execute_result"
    }
   ],
   "source": [
    "dataset['race'].value_counts()"
   ]
  },
  {
   "cell_type": "markdown",
   "id": "321952b1-e091-4841-9a1d-c1f2152d2380",
   "metadata": {},
   "source": [
    "**Assumptions:**<br>\n",
    "**1. Considering race = 'Others' as life expectancy for all remaining races and origins except W, B, H, A, N, and O.**<br>\n",
    "**2. Dropping NaNs**"
   ]
  },
  {
   "cell_type": "code",
   "execution_count": 11,
   "id": "47f2a950-d4a7-4400-abbb-7f1425fa8829",
   "metadata": {},
   "outputs": [
    {
     "name": "stdout",
     "output_type": "stream",
     "text": [
      "Before dropping:  (8002, 20)\n",
      "After dropping:  (6485, 20)\n"
     ]
    }
   ],
   "source": [
    "print(\"Before dropping: \", dataset.shape)\n",
    "dataset = dataset[dataset['race'].notna()]\n",
    "print(\"After dropping: \", dataset.shape)"
   ]
  },
  {
   "cell_type": "code",
   "execution_count": 12,
   "id": "343bd307-cc1d-40cc-8997-9be211c28911",
   "metadata": {},
   "outputs": [
    {
     "data": {
      "text/plain": [
       "race\n",
       "W    3300\n",
       "B    1766\n",
       "H    1166\n",
       "A     129\n",
       "O     124\n",
       "Name: count, dtype: int64"
      ]
     },
     "execution_count": 12,
     "metadata": {},
     "output_type": "execute_result"
    }
   ],
   "source": [
    "dataset['race'] = dataset['race'].apply(replace_race_categories)\n",
    "\n",
    "dataset['race'].value_counts()"
   ]
  },
  {
   "cell_type": "code",
   "execution_count": 13,
   "id": "0008f728-6ab9-4ef2-bef6-627f7d611c9d",
   "metadata": {},
   "outputs": [
    {
     "name": "stdout",
     "output_type": "stream",
     "text": [
      "(5194, 20)\n"
     ]
    },
    {
     "data": {
      "text/html": [
       "<div>\n",
       "<style scoped>\n",
       "    .dataframe tbody tr th:only-of-type {\n",
       "        vertical-align: middle;\n",
       "    }\n",
       "\n",
       "    .dataframe tbody tr th {\n",
       "        vertical-align: top;\n",
       "    }\n",
       "\n",
       "    .dataframe thead th {\n",
       "        text-align: right;\n",
       "    }\n",
       "</style>\n",
       "<table border=\"1\" class=\"dataframe\">\n",
       "  <thead>\n",
       "    <tr style=\"text-align: right;\">\n",
       "      <th></th>\n",
       "      <th>id</th>\n",
       "      <th>name</th>\n",
       "      <th>date</th>\n",
       "      <th>manner_of_death</th>\n",
       "      <th>armed</th>\n",
       "      <th>age</th>\n",
       "      <th>gender</th>\n",
       "      <th>race</th>\n",
       "      <th>city</th>\n",
       "      <th>state</th>\n",
       "      <th>signs_of_mental_illness</th>\n",
       "      <th>threat_level</th>\n",
       "      <th>flee</th>\n",
       "      <th>body_camera</th>\n",
       "      <th>longitude</th>\n",
       "      <th>latitude</th>\n",
       "      <th>is_geocoding_exact</th>\n",
       "      <th>day</th>\n",
       "      <th>month</th>\n",
       "      <th>year</th>\n",
       "    </tr>\n",
       "  </thead>\n",
       "  <tbody>\n",
       "    <tr>\n",
       "      <th>0</th>\n",
       "      <td>3</td>\n",
       "      <td>Tim Elliot</td>\n",
       "      <td>2015-01-02</td>\n",
       "      <td>shot</td>\n",
       "      <td>gun</td>\n",
       "      <td>53.0</td>\n",
       "      <td>M</td>\n",
       "      <td>A</td>\n",
       "      <td>Shelton</td>\n",
       "      <td>WA</td>\n",
       "      <td>True</td>\n",
       "      <td>attack</td>\n",
       "      <td>Not fleeing</td>\n",
       "      <td>False</td>\n",
       "      <td>-123.122</td>\n",
       "      <td>47.247</td>\n",
       "      <td>True</td>\n",
       "      <td>2</td>\n",
       "      <td>1</td>\n",
       "      <td>2015</td>\n",
       "    </tr>\n",
       "    <tr>\n",
       "      <th>1</th>\n",
       "      <td>4</td>\n",
       "      <td>Lewis Lee Lembke</td>\n",
       "      <td>2015-01-02</td>\n",
       "      <td>shot</td>\n",
       "      <td>gun</td>\n",
       "      <td>47.0</td>\n",
       "      <td>M</td>\n",
       "      <td>W</td>\n",
       "      <td>Aloha</td>\n",
       "      <td>OR</td>\n",
       "      <td>False</td>\n",
       "      <td>attack</td>\n",
       "      <td>Not fleeing</td>\n",
       "      <td>False</td>\n",
       "      <td>-122.892</td>\n",
       "      <td>45.487</td>\n",
       "      <td>True</td>\n",
       "      <td>2</td>\n",
       "      <td>1</td>\n",
       "      <td>2015</td>\n",
       "    </tr>\n",
       "    <tr>\n",
       "      <th>2</th>\n",
       "      <td>5</td>\n",
       "      <td>John Paul Quintero</td>\n",
       "      <td>2015-01-03</td>\n",
       "      <td>shot and Tasered</td>\n",
       "      <td>unarmed</td>\n",
       "      <td>23.0</td>\n",
       "      <td>M</td>\n",
       "      <td>H</td>\n",
       "      <td>Wichita</td>\n",
       "      <td>KS</td>\n",
       "      <td>False</td>\n",
       "      <td>other</td>\n",
       "      <td>Not fleeing</td>\n",
       "      <td>False</td>\n",
       "      <td>-97.281</td>\n",
       "      <td>37.695</td>\n",
       "      <td>True</td>\n",
       "      <td>3</td>\n",
       "      <td>1</td>\n",
       "      <td>2015</td>\n",
       "    </tr>\n",
       "    <tr>\n",
       "      <th>3</th>\n",
       "      <td>8</td>\n",
       "      <td>Matthew Hoffman</td>\n",
       "      <td>2015-01-04</td>\n",
       "      <td>shot</td>\n",
       "      <td>toy weapon</td>\n",
       "      <td>32.0</td>\n",
       "      <td>M</td>\n",
       "      <td>W</td>\n",
       "      <td>San Francisco</td>\n",
       "      <td>CA</td>\n",
       "      <td>True</td>\n",
       "      <td>attack</td>\n",
       "      <td>Not fleeing</td>\n",
       "      <td>False</td>\n",
       "      <td>-122.422</td>\n",
       "      <td>37.763</td>\n",
       "      <td>True</td>\n",
       "      <td>4</td>\n",
       "      <td>1</td>\n",
       "      <td>2015</td>\n",
       "    </tr>\n",
       "    <tr>\n",
       "      <th>4</th>\n",
       "      <td>9</td>\n",
       "      <td>Michael Rodriguez</td>\n",
       "      <td>2015-01-04</td>\n",
       "      <td>shot</td>\n",
       "      <td>nail gun</td>\n",
       "      <td>39.0</td>\n",
       "      <td>M</td>\n",
       "      <td>H</td>\n",
       "      <td>Evans</td>\n",
       "      <td>CO</td>\n",
       "      <td>False</td>\n",
       "      <td>attack</td>\n",
       "      <td>Not fleeing</td>\n",
       "      <td>False</td>\n",
       "      <td>-104.692</td>\n",
       "      <td>40.384</td>\n",
       "      <td>True</td>\n",
       "      <td>4</td>\n",
       "      <td>1</td>\n",
       "      <td>2015</td>\n",
       "    </tr>\n",
       "  </tbody>\n",
       "</table>\n",
       "</div>"
      ],
      "text/plain": [
       "   id                name       date   manner_of_death       armed   age  \\\n",
       "0   3          Tim Elliot 2015-01-02              shot         gun  53.0   \n",
       "1   4    Lewis Lee Lembke 2015-01-02              shot         gun  47.0   \n",
       "2   5  John Paul Quintero 2015-01-03  shot and Tasered     unarmed  23.0   \n",
       "3   8     Matthew Hoffman 2015-01-04              shot  toy weapon  32.0   \n",
       "4   9   Michael Rodriguez 2015-01-04              shot    nail gun  39.0   \n",
       "\n",
       "  gender race           city state  signs_of_mental_illness threat_level  \\\n",
       "0      M    A        Shelton    WA                     True       attack   \n",
       "1      M    W          Aloha    OR                    False       attack   \n",
       "2      M    H        Wichita    KS                    False        other   \n",
       "3      M    W  San Francisco    CA                     True       attack   \n",
       "4      M    H          Evans    CO                    False       attack   \n",
       "\n",
       "          flee  body_camera  longitude  latitude  is_geocoding_exact  day  \\\n",
       "0  Not fleeing        False   -123.122    47.247                True    2   \n",
       "1  Not fleeing        False   -122.892    45.487                True    2   \n",
       "2  Not fleeing        False    -97.281    37.695                True    3   \n",
       "3  Not fleeing        False   -122.422    37.763                True    4   \n",
       "4  Not fleeing        False   -104.692    40.384                True    4   \n",
       "\n",
       "   month  year  \n",
       "0      1  2015  \n",
       "1      1  2015  \n",
       "2      1  2015  \n",
       "3      1  2015  \n",
       "4      1  2015  "
      ]
     },
     "execution_count": 13,
     "metadata": {},
     "output_type": "execute_result"
    }
   ],
   "source": [
    "dataset = dataset[(dataset.race != 'N') & (dataset.race.notna())]\n",
    "dataset = dataset[(dataset.gender.notna()) & (dataset.age.notna())]\n",
    "dataset = dataset[(dataset.armed.notna()) & (dataset.flee.notna())]\n",
    "dataset = dataset[(dataset.longitude.notna()) & (dataset.latitude.notna())]\n",
    "\n",
    "print(dataset.shape)\n",
    "\n",
    "dataset.head()"
   ]
  },
  {
   "cell_type": "code",
   "execution_count": 14,
   "id": "57d9902f-e4d9-409e-bc2b-b7f0f25efc6f",
   "metadata": {},
   "outputs": [
    {
     "data": {
      "text/plain": [
       "id                          0\n",
       "name                       15\n",
       "date                        0\n",
       "manner_of_death             0\n",
       "armed                       0\n",
       "age                         0\n",
       "gender                      0\n",
       "race                        0\n",
       "city                        0\n",
       "state                       0\n",
       "signs_of_mental_illness     0\n",
       "threat_level                0\n",
       "flee                        0\n",
       "body_camera                 0\n",
       "longitude                   0\n",
       "latitude                    0\n",
       "is_geocoding_exact          0\n",
       "day                         0\n",
       "month                       0\n",
       "year                        0\n",
       "dtype: int64"
      ]
     },
     "execution_count": 14,
     "metadata": {},
     "output_type": "execute_result"
    }
   ],
   "source": [
    "dataset.isnull().sum()"
   ]
  },
  {
   "cell_type": "markdown",
   "id": "2e280ffe-c5b3-4acf-b26c-660c6b2d8d11",
   "metadata": {},
   "source": [
    "**We will drop the name column.**"
   ]
  },
  {
   "cell_type": "code",
   "execution_count": null,
   "id": "ba48ee0b-f419-4eda-a499-e88982cca908",
   "metadata": {},
   "outputs": [],
   "source": []
  },
  {
   "cell_type": "markdown",
   "id": "9696cfd8-5cc3-4a0c-aecf-b371b579b81b",
   "metadata": {},
   "source": [
    "# Years of Life Lost (YLL)"
   ]
  },
  {
   "cell_type": "code",
   "execution_count": 15,
   "id": "58e82803-7080-4b3f-afa4-6e27e9b17d29",
   "metadata": {},
   "outputs": [
    {
     "data": {
      "text/html": [
       "<div>\n",
       "<style scoped>\n",
       "    .dataframe tbody tr th:only-of-type {\n",
       "        vertical-align: middle;\n",
       "    }\n",
       "\n",
       "    .dataframe tbody tr th {\n",
       "        vertical-align: top;\n",
       "    }\n",
       "\n",
       "    .dataframe thead th {\n",
       "        text-align: right;\n",
       "    }\n",
       "</style>\n",
       "<table border=\"1\" class=\"dataframe\">\n",
       "  <thead>\n",
       "    <tr style=\"text-align: right;\">\n",
       "      <th></th>\n",
       "      <th>W</th>\n",
       "      <th>B</th>\n",
       "      <th>A</th>\n",
       "      <th>H</th>\n",
       "      <th>O</th>\n",
       "    </tr>\n",
       "  </thead>\n",
       "  <tbody>\n",
       "    <tr>\n",
       "      <th>M</th>\n",
       "      <td>73.7</td>\n",
       "      <td>66.7</td>\n",
       "      <td>81.2</td>\n",
       "      <td>74.4</td>\n",
       "      <td>73.2</td>\n",
       "    </tr>\n",
       "    <tr>\n",
       "      <th>F</th>\n",
       "      <td>79.2</td>\n",
       "      <td>74.8</td>\n",
       "      <td>85.6</td>\n",
       "      <td>81.0</td>\n",
       "      <td>79.1</td>\n",
       "    </tr>\n",
       "  </tbody>\n",
       "</table>\n",
       "</div>"
      ],
      "text/plain": [
       "      W     B     A     H     O\n",
       "M  73.7  66.7  81.2  74.4  73.2\n",
       "F  79.2  74.8  85.6  81.0  79.1"
      ]
     },
     "execution_count": 15,
     "metadata": {},
     "output_type": "execute_result"
    }
   ],
   "source": [
    "life_expectancy_2021_df = pd.DataFrame(life_expectancy_2021)\n",
    "life_expectancy_2021_df"
   ]
  },
  {
   "cell_type": "code",
   "execution_count": 16,
   "id": "3e2f6850-742c-4d34-82a7-9b49fa0d1eb1",
   "metadata": {},
   "outputs": [],
   "source": [
    "def calculate_yll(row):\n",
    "    '''\n",
    "    This method calculates the years of life lost by matching taking the difference between the life_expectancy and died age of the victim.\n",
    "    YLL = (life_expectancy - victim_age_when_died)\n",
    "    '''\n",
    "    gender = row['gender']\n",
    "    race = row['race']\n",
    "    age = row['age']\n",
    "    \n",
    "    life_expectancy = life_expectancy_2021_df.loc[gender, race]\n",
    "    \n",
    "    yll = np.round(np.float32(life_expectancy) - np.float32(age), 1)\n",
    "    \n",
    "    return yll\n",
    "\n",
    "dataset['yll'] = dataset.apply(calculate_yll, axis=1)"
   ]
  },
  {
   "cell_type": "code",
   "execution_count": 17,
   "id": "6e5f16a6-00e1-48e0-868c-5c84a7510dc7",
   "metadata": {},
   "outputs": [
    {
     "data": {
      "text/html": [
       "<div>\n",
       "<style scoped>\n",
       "    .dataframe tbody tr th:only-of-type {\n",
       "        vertical-align: middle;\n",
       "    }\n",
       "\n",
       "    .dataframe tbody tr th {\n",
       "        vertical-align: top;\n",
       "    }\n",
       "\n",
       "    .dataframe thead th {\n",
       "        text-align: right;\n",
       "    }\n",
       "</style>\n",
       "<table border=\"1\" class=\"dataframe\">\n",
       "  <thead>\n",
       "    <tr style=\"text-align: right;\">\n",
       "      <th></th>\n",
       "      <th>manner_of_death</th>\n",
       "      <th>armed</th>\n",
       "      <th>age</th>\n",
       "      <th>gender</th>\n",
       "      <th>race</th>\n",
       "      <th>city</th>\n",
       "      <th>state</th>\n",
       "      <th>signs_of_mental_illness</th>\n",
       "      <th>threat_level</th>\n",
       "      <th>flee</th>\n",
       "      <th>body_camera</th>\n",
       "      <th>longitude</th>\n",
       "      <th>latitude</th>\n",
       "      <th>is_geocoding_exact</th>\n",
       "      <th>day</th>\n",
       "      <th>month</th>\n",
       "      <th>year</th>\n",
       "      <th>yll</th>\n",
       "    </tr>\n",
       "  </thead>\n",
       "  <tbody>\n",
       "    <tr>\n",
       "      <th>0</th>\n",
       "      <td>shot</td>\n",
       "      <td>gun</td>\n",
       "      <td>53.0</td>\n",
       "      <td>M</td>\n",
       "      <td>A</td>\n",
       "      <td>Shelton</td>\n",
       "      <td>WA</td>\n",
       "      <td>True</td>\n",
       "      <td>attack</td>\n",
       "      <td>Not fleeing</td>\n",
       "      <td>False</td>\n",
       "      <td>-123.122</td>\n",
       "      <td>47.247</td>\n",
       "      <td>True</td>\n",
       "      <td>2</td>\n",
       "      <td>1</td>\n",
       "      <td>2015</td>\n",
       "      <td>28.200001</td>\n",
       "    </tr>\n",
       "    <tr>\n",
       "      <th>1</th>\n",
       "      <td>shot</td>\n",
       "      <td>gun</td>\n",
       "      <td>47.0</td>\n",
       "      <td>M</td>\n",
       "      <td>W</td>\n",
       "      <td>Aloha</td>\n",
       "      <td>OR</td>\n",
       "      <td>False</td>\n",
       "      <td>attack</td>\n",
       "      <td>Not fleeing</td>\n",
       "      <td>False</td>\n",
       "      <td>-122.892</td>\n",
       "      <td>45.487</td>\n",
       "      <td>True</td>\n",
       "      <td>2</td>\n",
       "      <td>1</td>\n",
       "      <td>2015</td>\n",
       "      <td>26.700001</td>\n",
       "    </tr>\n",
       "    <tr>\n",
       "      <th>2</th>\n",
       "      <td>shot and Tasered</td>\n",
       "      <td>unarmed</td>\n",
       "      <td>23.0</td>\n",
       "      <td>M</td>\n",
       "      <td>H</td>\n",
       "      <td>Wichita</td>\n",
       "      <td>KS</td>\n",
       "      <td>False</td>\n",
       "      <td>other</td>\n",
       "      <td>Not fleeing</td>\n",
       "      <td>False</td>\n",
       "      <td>-97.281</td>\n",
       "      <td>37.695</td>\n",
       "      <td>True</td>\n",
       "      <td>3</td>\n",
       "      <td>1</td>\n",
       "      <td>2015</td>\n",
       "      <td>51.400002</td>\n",
       "    </tr>\n",
       "    <tr>\n",
       "      <th>3</th>\n",
       "      <td>shot</td>\n",
       "      <td>toy weapon</td>\n",
       "      <td>32.0</td>\n",
       "      <td>M</td>\n",
       "      <td>W</td>\n",
       "      <td>San Francisco</td>\n",
       "      <td>CA</td>\n",
       "      <td>True</td>\n",
       "      <td>attack</td>\n",
       "      <td>Not fleeing</td>\n",
       "      <td>False</td>\n",
       "      <td>-122.422</td>\n",
       "      <td>37.763</td>\n",
       "      <td>True</td>\n",
       "      <td>4</td>\n",
       "      <td>1</td>\n",
       "      <td>2015</td>\n",
       "      <td>41.700001</td>\n",
       "    </tr>\n",
       "    <tr>\n",
       "      <th>4</th>\n",
       "      <td>shot</td>\n",
       "      <td>nail gun</td>\n",
       "      <td>39.0</td>\n",
       "      <td>M</td>\n",
       "      <td>H</td>\n",
       "      <td>Evans</td>\n",
       "      <td>CO</td>\n",
       "      <td>False</td>\n",
       "      <td>attack</td>\n",
       "      <td>Not fleeing</td>\n",
       "      <td>False</td>\n",
       "      <td>-104.692</td>\n",
       "      <td>40.384</td>\n",
       "      <td>True</td>\n",
       "      <td>4</td>\n",
       "      <td>1</td>\n",
       "      <td>2015</td>\n",
       "      <td>35.400002</td>\n",
       "    </tr>\n",
       "  </tbody>\n",
       "</table>\n",
       "</div>"
      ],
      "text/plain": [
       "    manner_of_death       armed   age gender race           city state  \\\n",
       "0              shot         gun  53.0      M    A        Shelton    WA   \n",
       "1              shot         gun  47.0      M    W          Aloha    OR   \n",
       "2  shot and Tasered     unarmed  23.0      M    H        Wichita    KS   \n",
       "3              shot  toy weapon  32.0      M    W  San Francisco    CA   \n",
       "4              shot    nail gun  39.0      M    H          Evans    CO   \n",
       "\n",
       "   signs_of_mental_illness threat_level         flee  body_camera  longitude  \\\n",
       "0                     True       attack  Not fleeing        False   -123.122   \n",
       "1                    False       attack  Not fleeing        False   -122.892   \n",
       "2                    False        other  Not fleeing        False    -97.281   \n",
       "3                     True       attack  Not fleeing        False   -122.422   \n",
       "4                    False       attack  Not fleeing        False   -104.692   \n",
       "\n",
       "   latitude  is_geocoding_exact  day  month  year        yll  \n",
       "0    47.247                True    2      1  2015  28.200001  \n",
       "1    45.487                True    2      1  2015  26.700001  \n",
       "2    37.695                True    3      1  2015  51.400002  \n",
       "3    37.763                True    4      1  2015  41.700001  \n",
       "4    40.384                True    4      1  2015  35.400002  "
      ]
     },
     "execution_count": 17,
     "metadata": {},
     "output_type": "execute_result"
    }
   ],
   "source": [
    "dataset = dataset.drop(['id', 'name', 'date'], axis = 1)\n",
    "\n",
    "dataset.head()"
   ]
  },
  {
   "cell_type": "code",
   "execution_count": 18,
   "id": "734efa77-0722-410a-9b05-47e1515b7e0f",
   "metadata": {},
   "outputs": [
    {
     "name": "stdout",
     "output_type": "stream",
     "text": [
      "Total number of numerical features:  7\n",
      "['age', 'longitude', 'latitude', 'day', 'month', 'year', 'yll']\n"
     ]
    }
   ],
   "source": [
    "numerical_features = [feature for feature in dataset.columns if dataset[feature].dtype != 'object']\n",
    "numerical_features = [feature for feature in numerical_features if dataset[feature].dtype != 'bool']\n",
    "\n",
    "print('Total number of numerical features: ', len(numerical_features))\n",
    "print(numerical_features)"
   ]
  },
  {
   "cell_type": "code",
   "execution_count": 19,
   "id": "d2ddf2c1-1354-44a8-bcf9-7acee8ba1e50",
   "metadata": {},
   "outputs": [
    {
     "name": "stdout",
     "output_type": "stream",
     "text": [
      "Total number of categorical features:  11\n",
      "['manner_of_death', 'armed', 'gender', 'race', 'city', 'state', 'signs_of_mental_illness', 'threat_level', 'flee', 'body_camera', 'is_geocoding_exact']\n"
     ]
    }
   ],
   "source": [
    "categorical_features = [feature for feature in dataset.columns if feature not in numerical_features]\n",
    "\n",
    "print(\"Total number of categorical features: \", len(categorical_features))\n",
    "print(categorical_features)"
   ]
  },
  {
   "cell_type": "code",
   "execution_count": null,
   "id": "51d4f7b6-d327-4e17-bbb1-f67dc9e55bb0",
   "metadata": {},
   "outputs": [],
   "source": []
  },
  {
   "cell_type": "markdown",
   "id": "383cd081-7349-4557-b2ad-8eb54c3da202",
   "metadata": {},
   "source": [
    "# Data Analysis"
   ]
  },
  {
   "cell_type": "markdown",
   "id": "b427d339-9217-49c7-b90b-63ee45ebfbcb",
   "metadata": {},
   "source": [
    "## Most victims died"
   ]
  },
  {
   "cell_type": "code",
   "execution_count": 20,
   "id": "efe76c36-3769-466f-915e-94b11ece708d",
   "metadata": {},
   "outputs": [
    {
     "data": {
      "text/plain": [
       "race\n",
       "W    50.885637\n",
       "B    27.031190\n",
       "H    18.251829\n",
       "A     1.983057\n",
       "O     1.848286\n",
       "Name: count, dtype: float64"
      ]
     },
     "execution_count": 20,
     "metadata": {},
     "output_type": "execute_result"
    }
   ],
   "source": [
    "dataset['race'].value_counts().sort_values(ascending = False) / len(dataset) * 100"
   ]
  },
  {
   "cell_type": "markdown",
   "id": "2d026f61-0df3-48fd-a8bd-12001a753879",
   "metadata": {},
   "source": [
    "**Most victims are White (50.88%), followed by Black (27.03%), Hispanic (18.25%), Asian (1.98%), and Others (1.485%).**"
   ]
  },
  {
   "cell_type": "code",
   "execution_count": 21,
   "id": "ed4e43c6-da25-4adb-9e21-210d66de8524",
   "metadata": {},
   "outputs": [
    {
     "name": "stdout",
     "output_type": "stream",
     "text": [
      "Median age of victims of 35.0 is: A\n",
      "Median age of victims of 38.0 is: W\n",
      "Median age of victims of 33.0 is: H\n",
      "Median age of victims of 31.0 is: B\n",
      "Median age of victims of 32.0 is: O\n"
     ]
    }
   ],
   "source": [
    "for race in dataset.race.unique():\n",
    "    print(f\"Median age of victims of {np.median(dataset[dataset['race'] == race]['age'])} is: {race}\")"
   ]
  },
  {
   "cell_type": "markdown",
   "id": "2b8736e0-23ef-4a03-ae7c-b3ac3808f01e",
   "metadata": {},
   "source": [
    "**The median age of White is 35.0, Black is 31, Hispanic is 33, Asian is 35 and Other race is 32**"
   ]
  },
  {
   "cell_type": "code",
   "execution_count": 22,
   "id": "99bf2d48-3e63-4956-85f5-578384f48ee6",
   "metadata": {},
   "outputs": [
    {
     "data": {
      "text/plain": [
       "35.0"
      ]
     },
     "execution_count": 22,
     "metadata": {},
     "output_type": "execute_result"
    }
   ],
   "source": [
    "np.median(dataset['age'])"
   ]
  },
  {
   "cell_type": "code",
   "execution_count": 23,
   "id": "1b6ad099-8086-4c9a-abda-8e044430a61b",
   "metadata": {},
   "outputs": [
    {
     "data": {
      "image/png": "[encoded data removed]",
      "text/plain": [
       "<Figure size 1000x500 with 1 Axes>"
      ]
     },
     "metadata": {},
     "output_type": "display_data"
    }
   ],
   "source": [
    "most_victims = dataset['race'].value_counts().sort_values(ascending = False) / len(dataset) * 100\n",
    "plt.figure(figsize = (10, 5))\n",
    "sns.barplot(x = most_victims.index, y = most_victims.values)\n",
    "\n",
    "plt.ylabel('% Killed')\n",
    "plt.title('% of victims killed across various racial groups')\n",
    "\n",
    "plt.show()"
   ]
  },
  {
   "cell_type": "code",
   "execution_count": null,
   "id": "cb16ca29-a335-43bd-88a1-9bd29a6a41fd",
   "metadata": {},
   "outputs": [],
   "source": []
  },
  {
   "cell_type": "code",
   "execution_count": null,
   "id": "aa85cd45-45f9-44eb-a10c-bc96ff734a25",
   "metadata": {},
   "outputs": [],
   "source": []
  },
  {
   "cell_type": "markdown",
   "id": "ee040865-99a6-4cd9-898f-46dc825f277b",
   "metadata": {},
   "source": [
    "## Umarmed Victims"
   ]
  },
  {
   "cell_type": "markdown",
   "id": "63984a1e-c6cf-4dba-91b5-9dc426b1b8c2",
   "metadata": {},
   "source": [
    "**Trends for killing unarmed victims**"
   ]
  },
  {
   "cell_type": "code",
   "execution_count": 24,
   "id": "fde6e7d8-78ef-48e2-a4a2-6dbb8acd142b",
   "metadata": {},
   "outputs": [
    {
     "data": {
      "image/png": "[encoded data removed]",
      "text/plain": [
       "<Figure size 1000x500 with 1 Axes>"
      ]
     },
     "metadata": {},
     "output_type": "display_data"
    }
   ],
   "source": [
    "unarmed_victims = dataset[dataset['armed'] == 'unarmed'].groupby(['race', 'year'])['yll'].agg('count')\n",
    "plt.figure(figsize = (10, 5))\n",
    "\n",
    "race_dict = {'W': 'White, non-Hispanic', 'B': 'Black, non-Hispanic', 'A': 'Asian', 'N': 'Native American', 'H': 'Hispanic', 'O': 'Other'}\n",
    "\n",
    "for race in dataset['race'].unique():\n",
    "    data = unarmed_victims[race]\n",
    "    sns.lineplot(x = data.index, y = data.values, label = race_dict[race])\n",
    "\n",
    "plt.xlabel(\"Year\")\n",
    "plt.ylabel(\"Loss of life\")\n",
    "plt.title(\"Unarmed victims being over time\")\n",
    "\n",
    "plt.legend(title = \"Race\")\n",
    "\n",
    "plt.show()"
   ]
  },
  {
   "cell_type": "code",
   "execution_count": 25,
   "id": "3962fdd0-2708-4d7f-81f1-48daa882a21d",
   "metadata": {},
   "outputs": [
    {
     "data": {
      "image/png": "[encoded data removed]",
      "text/plain": [
       "<Figure size 1000x500 with 1 Axes>"
      ]
     },
     "metadata": {},
     "output_type": "display_data"
    }
   ],
   "source": [
    "unarmed_victims = dataset[dataset['armed'] == 'unarmed'].groupby(['race', 'year'])['yll'].agg('mean')\n",
    "plt.figure(figsize = (10, 5))\n",
    "\n",
    "race_dict = {'W': 'White, non-Hispanic', 'B': 'Black, non-Hispanic', 'A': 'Asian', 'N': 'Native American', 'H': 'Hispanic', 'O': 'Other'}\n",
    "\n",
    "for race in dataset['race'].unique():\n",
    "    data = unarmed_victims[race]\n",
    "    sns.lineplot(x = data.index, y = data.values, label = race_dict[race])\n",
    "\n",
    "plt.xlabel(\"Year\")\n",
    "plt.ylabel(\"Years of Life Lost\")\n",
    "plt.title(\"Mean of Years of life lost for unarmed victims over time\")\n",
    "\n",
    "plt.legend(title = \"Race\")\n",
    "\n",
    "plt.show()"
   ]
  },
  {
   "cell_type": "markdown",
   "id": "f7e90e5b-92f9-4f11-8321-c8695d9b50de",
   "metadata": {},
   "source": [
    "## Group means over time"
   ]
  },
  {
   "cell_type": "code",
   "execution_count": 26,
   "id": "f8e2bcec-37a4-400d-b7a2-57677aaafd1e",
   "metadata": {},
   "outputs": [
    {
     "data": {
      "text/html": [
       "<div>\n",
       "<style scoped>\n",
       "    .dataframe tbody tr th:only-of-type {\n",
       "        vertical-align: middle;\n",
       "    }\n",
       "\n",
       "    .dataframe tbody tr th {\n",
       "        vertical-align: top;\n",
       "    }\n",
       "\n",
       "    .dataframe thead th {\n",
       "        text-align: right;\n",
       "    }\n",
       "</style>\n",
       "<table border=\"1\" class=\"dataframe\">\n",
       "  <thead>\n",
       "    <tr style=\"text-align: right;\">\n",
       "      <th></th>\n",
       "      <th>manner_of_death</th>\n",
       "      <th>armed</th>\n",
       "      <th>age</th>\n",
       "      <th>gender</th>\n",
       "      <th>race</th>\n",
       "      <th>city</th>\n",
       "      <th>state</th>\n",
       "      <th>signs_of_mental_illness</th>\n",
       "      <th>threat_level</th>\n",
       "      <th>flee</th>\n",
       "      <th>body_camera</th>\n",
       "      <th>longitude</th>\n",
       "      <th>latitude</th>\n",
       "      <th>is_geocoding_exact</th>\n",
       "      <th>day</th>\n",
       "      <th>month</th>\n",
       "      <th>year</th>\n",
       "      <th>yll</th>\n",
       "    </tr>\n",
       "  </thead>\n",
       "  <tbody>\n",
       "    <tr>\n",
       "      <th>0</th>\n",
       "      <td>shot</td>\n",
       "      <td>gun</td>\n",
       "      <td>53.0</td>\n",
       "      <td>M</td>\n",
       "      <td>A</td>\n",
       "      <td>Shelton</td>\n",
       "      <td>WA</td>\n",
       "      <td>True</td>\n",
       "      <td>attack</td>\n",
       "      <td>Not fleeing</td>\n",
       "      <td>False</td>\n",
       "      <td>-123.122</td>\n",
       "      <td>47.247</td>\n",
       "      <td>True</td>\n",
       "      <td>2</td>\n",
       "      <td>1</td>\n",
       "      <td>2015</td>\n",
       "      <td>28.200001</td>\n",
       "    </tr>\n",
       "    <tr>\n",
       "      <th>1</th>\n",
       "      <td>shot</td>\n",
       "      <td>gun</td>\n",
       "      <td>47.0</td>\n",
       "      <td>M</td>\n",
       "      <td>W</td>\n",
       "      <td>Aloha</td>\n",
       "      <td>OR</td>\n",
       "      <td>False</td>\n",
       "      <td>attack</td>\n",
       "      <td>Not fleeing</td>\n",
       "      <td>False</td>\n",
       "      <td>-122.892</td>\n",
       "      <td>45.487</td>\n",
       "      <td>True</td>\n",
       "      <td>2</td>\n",
       "      <td>1</td>\n",
       "      <td>2015</td>\n",
       "      <td>26.700001</td>\n",
       "    </tr>\n",
       "    <tr>\n",
       "      <th>2</th>\n",
       "      <td>shot and Tasered</td>\n",
       "      <td>unarmed</td>\n",
       "      <td>23.0</td>\n",
       "      <td>M</td>\n",
       "      <td>H</td>\n",
       "      <td>Wichita</td>\n",
       "      <td>KS</td>\n",
       "      <td>False</td>\n",
       "      <td>other</td>\n",
       "      <td>Not fleeing</td>\n",
       "      <td>False</td>\n",
       "      <td>-97.281</td>\n",
       "      <td>37.695</td>\n",
       "      <td>True</td>\n",
       "      <td>3</td>\n",
       "      <td>1</td>\n",
       "      <td>2015</td>\n",
       "      <td>51.400002</td>\n",
       "    </tr>\n",
       "    <tr>\n",
       "      <th>3</th>\n",
       "      <td>shot</td>\n",
       "      <td>toy weapon</td>\n",
       "      <td>32.0</td>\n",
       "      <td>M</td>\n",
       "      <td>W</td>\n",
       "      <td>San Francisco</td>\n",
       "      <td>CA</td>\n",
       "      <td>True</td>\n",
       "      <td>attack</td>\n",
       "      <td>Not fleeing</td>\n",
       "      <td>False</td>\n",
       "      <td>-122.422</td>\n",
       "      <td>37.763</td>\n",
       "      <td>True</td>\n",
       "      <td>4</td>\n",
       "      <td>1</td>\n",
       "      <td>2015</td>\n",
       "      <td>41.700001</td>\n",
       "    </tr>\n",
       "    <tr>\n",
       "      <th>4</th>\n",
       "      <td>shot</td>\n",
       "      <td>nail gun</td>\n",
       "      <td>39.0</td>\n",
       "      <td>M</td>\n",
       "      <td>H</td>\n",
       "      <td>Evans</td>\n",
       "      <td>CO</td>\n",
       "      <td>False</td>\n",
       "      <td>attack</td>\n",
       "      <td>Not fleeing</td>\n",
       "      <td>False</td>\n",
       "      <td>-104.692</td>\n",
       "      <td>40.384</td>\n",
       "      <td>True</td>\n",
       "      <td>4</td>\n",
       "      <td>1</td>\n",
       "      <td>2015</td>\n",
       "      <td>35.400002</td>\n",
       "    </tr>\n",
       "  </tbody>\n",
       "</table>\n",
       "</div>"
      ],
      "text/plain": [
       "    manner_of_death       armed   age gender race           city state  \\\n",
       "0              shot         gun  53.0      M    A        Shelton    WA   \n",
       "1              shot         gun  47.0      M    W          Aloha    OR   \n",
       "2  shot and Tasered     unarmed  23.0      M    H        Wichita    KS   \n",
       "3              shot  toy weapon  32.0      M    W  San Francisco    CA   \n",
       "4              shot    nail gun  39.0      M    H          Evans    CO   \n",
       "\n",
       "   signs_of_mental_illness threat_level         flee  body_camera  longitude  \\\n",
       "0                     True       attack  Not fleeing        False   -123.122   \n",
       "1                    False       attack  Not fleeing        False   -122.892   \n",
       "2                    False        other  Not fleeing        False    -97.281   \n",
       "3                     True       attack  Not fleeing        False   -122.422   \n",
       "4                    False       attack  Not fleeing        False   -104.692   \n",
       "\n",
       "   latitude  is_geocoding_exact  day  month  year        yll  \n",
       "0    47.247                True    2      1  2015  28.200001  \n",
       "1    45.487                True    2      1  2015  26.700001  \n",
       "2    37.695                True    3      1  2015  51.400002  \n",
       "3    37.763                True    4      1  2015  41.700001  \n",
       "4    40.384                True    4      1  2015  35.400002  "
      ]
     },
     "execution_count": 26,
     "metadata": {},
     "output_type": "execute_result"
    }
   ],
   "source": [
    "dataset.head()"
   ]
  },
  {
   "cell_type": "code",
   "execution_count": 27,
   "id": "036a6a28-2e4e-4986-82a4-d2d25a39db72",
   "metadata": {},
   "outputs": [
    {
     "data": {
      "image/png": "[encoded data removed]",
      "text/plain": [
       "<Figure size 1200x500 with 1 Axes>"
      ]
     },
     "metadata": {},
     "output_type": "display_data"
    }
   ],
   "source": [
    "group_means = dataset.groupby(['race', 'year'])['yll'].agg('mean')\n",
    "\n",
    "plt.figure(figsize = (12, 5))\n",
    "\n",
    "race_dict = {'W': 'White, non-Hispanic', 'B': 'Black, non-Hispanic', 'A': 'Asian', 'N': 'Native American', 'H': 'Hispanic', 'O': 'Other'}\n",
    "\n",
    "for race in dataset['race'].unique():\n",
    "    data = group_means[race]\n",
    "    sns.lineplot(x = data.index, y = data.values, label = race_dict[race])\n",
    "\n",
    "plt.xlabel(\"Year\")\n",
    "plt.ylabel(\"Years of Life Lost\")\n",
    "plt.title(\"Mean of Years of life lost over time\")\n",
    "\n",
    "plt.legend(title = \"Race\")\n",
    "\n",
    "plt.show()"
   ]
  },
  {
   "cell_type": "markdown",
   "id": "8f4f4c21-9718-4188-a0f1-54d693333088",
   "metadata": {},
   "source": [
    "**The mean years of life lost is almost similar for racial groups Asian-Hispanic, and White-Black.**<br>\n",
    "**The trend line between the White-Black racial groups moved very close to each other from the year 2015 to 2021 and is significantly lower at the start of the year 2022.**<br>\n",
    "**The mean years of life lost is significantly higher for the Asian racial group with the highest peaks recorded in the year 2017 and 2021 respectively.**<br>\n",
    "**There is a significant drop in the mean of years of life lost and reached the minimum when compared to other groups in the year 2021 and slightly increased by the start of the year 2022.**<br>"
   ]
  },
  {
   "cell_type": "code",
   "execution_count": null,
   "id": "37f10832-95fc-46c0-ade7-b252638a0129",
   "metadata": {},
   "outputs": [],
   "source": []
  },
  {
   "cell_type": "markdown",
   "id": "d42c3d15-bbc4-455a-818e-4be322cdb0f7",
   "metadata": {},
   "source": [
    "## Variance of years of life lost over time"
   ]
  },
  {
   "cell_type": "code",
   "execution_count": 28,
   "id": "d69f930a-6577-4f20-9cfa-eb94be52c3c5",
   "metadata": {},
   "outputs": [
    {
     "data": {
      "image/png": "[encoded data removed]",
      "text/plain": [
       "<Figure size 1000x500 with 1 Axes>"
      ]
     },
     "metadata": {},
     "output_type": "display_data"
    }
   ],
   "source": [
    "group_means = dataset.groupby(['race', 'year'])['yll'].agg('std')\n",
    "\n",
    "plt.figure(figsize = (10, 5))\n",
    "\n",
    "race_dict = {'W': 'White, non-Hispanic', 'B': 'Black, non-Hispanic', 'A': 'Asian', 'N': 'Native American', 'H': 'Hispanic', 'O': 'Other'}\n",
    "\n",
    "for race in dataset['race'].unique():\n",
    "    data = group_means[race]\n",
    "    sns.lineplot(x = data.index, y = data.values, label = race_dict[race])\n",
    "\n",
    "plt.xlabel(\"Year\")\n",
    "plt.ylabel(\"Years of Life Lost\")\n",
    "plt.title(\"Variance of Years of life lost over time\")\n",
    "\n",
    "plt.legend(title = \"Race\")\n",
    "\n",
    "plt.show()"
   ]
  },
  {
   "cell_type": "markdown",
   "id": "f5e909ed-8605-4feb-807a-3bce551b52fa",
   "metadata": {},
   "source": [
    "**It is clear that the data is not consistent over the years.**<br>\n",
    "**The other racial group's variation is increased significantly from the year 2017 to 2020 and suddenly dropped drastically in the year 2022.**<br>\n",
    "**Low fluctuations in years of life lost is found in White, non-Hispanic and is constantly reducing.**<br>\n",
    "**We can see repeated pattern for the variance in asian racial group from the year 2015 to 2021.**"
   ]
  },
  {
   "cell_type": "code",
   "execution_count": null,
   "id": "13ff56d8-42a9-4119-8115-bba9e1be3a03",
   "metadata": {},
   "outputs": [],
   "source": []
  },
  {
   "cell_type": "markdown",
   "id": "f515da6f-eff1-484b-8c7d-a08548e9a346",
   "metadata": {},
   "source": [
    "# Categorical Features"
   ]
  },
  {
   "cell_type": "markdown",
   "id": "18b98ceb-ce81-4614-801d-297d061cf848",
   "metadata": {},
   "source": [
    "## Cardinality"
   ]
  },
  {
   "cell_type": "code",
   "execution_count": 29,
   "id": "5ece8d09-b909-4582-982a-9e40a79094a3",
   "metadata": {},
   "outputs": [
    {
     "data": {
      "text/html": [
       "<div>\n",
       "<style scoped>\n",
       "    .dataframe tbody tr th:only-of-type {\n",
       "        vertical-align: middle;\n",
       "    }\n",
       "\n",
       "    .dataframe tbody tr th {\n",
       "        vertical-align: top;\n",
       "    }\n",
       "\n",
       "    .dataframe thead th {\n",
       "        text-align: right;\n",
       "    }\n",
       "</style>\n",
       "<table border=\"1\" class=\"dataframe\">\n",
       "  <thead>\n",
       "    <tr style=\"text-align: right;\">\n",
       "      <th></th>\n",
       "      <th>manner_of_death</th>\n",
       "      <th>armed</th>\n",
       "      <th>age</th>\n",
       "      <th>gender</th>\n",
       "      <th>race</th>\n",
       "      <th>city</th>\n",
       "      <th>state</th>\n",
       "      <th>signs_of_mental_illness</th>\n",
       "      <th>threat_level</th>\n",
       "      <th>flee</th>\n",
       "      <th>body_camera</th>\n",
       "      <th>longitude</th>\n",
       "      <th>latitude</th>\n",
       "      <th>is_geocoding_exact</th>\n",
       "      <th>day</th>\n",
       "      <th>month</th>\n",
       "      <th>year</th>\n",
       "      <th>yll</th>\n",
       "    </tr>\n",
       "  </thead>\n",
       "  <tbody>\n",
       "    <tr>\n",
       "      <th>0</th>\n",
       "      <td>shot</td>\n",
       "      <td>gun</td>\n",
       "      <td>53.0</td>\n",
       "      <td>M</td>\n",
       "      <td>A</td>\n",
       "      <td>Shelton</td>\n",
       "      <td>WA</td>\n",
       "      <td>True</td>\n",
       "      <td>attack</td>\n",
       "      <td>Not fleeing</td>\n",
       "      <td>False</td>\n",
       "      <td>-123.122</td>\n",
       "      <td>47.247</td>\n",
       "      <td>True</td>\n",
       "      <td>2</td>\n",
       "      <td>1</td>\n",
       "      <td>2015</td>\n",
       "      <td>28.200001</td>\n",
       "    </tr>\n",
       "    <tr>\n",
       "      <th>1</th>\n",
       "      <td>shot</td>\n",
       "      <td>gun</td>\n",
       "      <td>47.0</td>\n",
       "      <td>M</td>\n",
       "      <td>W</td>\n",
       "      <td>Aloha</td>\n",
       "      <td>OR</td>\n",
       "      <td>False</td>\n",
       "      <td>attack</td>\n",
       "      <td>Not fleeing</td>\n",
       "      <td>False</td>\n",
       "      <td>-122.892</td>\n",
       "      <td>45.487</td>\n",
       "      <td>True</td>\n",
       "      <td>2</td>\n",
       "      <td>1</td>\n",
       "      <td>2015</td>\n",
       "      <td>26.700001</td>\n",
       "    </tr>\n",
       "    <tr>\n",
       "      <th>2</th>\n",
       "      <td>shot and Tasered</td>\n",
       "      <td>unarmed</td>\n",
       "      <td>23.0</td>\n",
       "      <td>M</td>\n",
       "      <td>H</td>\n",
       "      <td>Wichita</td>\n",
       "      <td>KS</td>\n",
       "      <td>False</td>\n",
       "      <td>other</td>\n",
       "      <td>Not fleeing</td>\n",
       "      <td>False</td>\n",
       "      <td>-97.281</td>\n",
       "      <td>37.695</td>\n",
       "      <td>True</td>\n",
       "      <td>3</td>\n",
       "      <td>1</td>\n",
       "      <td>2015</td>\n",
       "      <td>51.400002</td>\n",
       "    </tr>\n",
       "    <tr>\n",
       "      <th>3</th>\n",
       "      <td>shot</td>\n",
       "      <td>toy weapon</td>\n",
       "      <td>32.0</td>\n",
       "      <td>M</td>\n",
       "      <td>W</td>\n",
       "      <td>San Francisco</td>\n",
       "      <td>CA</td>\n",
       "      <td>True</td>\n",
       "      <td>attack</td>\n",
       "      <td>Not fleeing</td>\n",
       "      <td>False</td>\n",
       "      <td>-122.422</td>\n",
       "      <td>37.763</td>\n",
       "      <td>True</td>\n",
       "      <td>4</td>\n",
       "      <td>1</td>\n",
       "      <td>2015</td>\n",
       "      <td>41.700001</td>\n",
       "    </tr>\n",
       "    <tr>\n",
       "      <th>4</th>\n",
       "      <td>shot</td>\n",
       "      <td>nail gun</td>\n",
       "      <td>39.0</td>\n",
       "      <td>M</td>\n",
       "      <td>H</td>\n",
       "      <td>Evans</td>\n",
       "      <td>CO</td>\n",
       "      <td>False</td>\n",
       "      <td>attack</td>\n",
       "      <td>Not fleeing</td>\n",
       "      <td>False</td>\n",
       "      <td>-104.692</td>\n",
       "      <td>40.384</td>\n",
       "      <td>True</td>\n",
       "      <td>4</td>\n",
       "      <td>1</td>\n",
       "      <td>2015</td>\n",
       "      <td>35.400002</td>\n",
       "    </tr>\n",
       "  </tbody>\n",
       "</table>\n",
       "</div>"
      ],
      "text/plain": [
       "    manner_of_death       armed   age gender race           city state  \\\n",
       "0              shot         gun  53.0      M    A        Shelton    WA   \n",
       "1              shot         gun  47.0      M    W          Aloha    OR   \n",
       "2  shot and Tasered     unarmed  23.0      M    H        Wichita    KS   \n",
       "3              shot  toy weapon  32.0      M    W  San Francisco    CA   \n",
       "4              shot    nail gun  39.0      M    H          Evans    CO   \n",
       "\n",
       "   signs_of_mental_illness threat_level         flee  body_camera  longitude  \\\n",
       "0                     True       attack  Not fleeing        False   -123.122   \n",
       "1                    False       attack  Not fleeing        False   -122.892   \n",
       "2                    False        other  Not fleeing        False    -97.281   \n",
       "3                     True       attack  Not fleeing        False   -122.422   \n",
       "4                    False       attack  Not fleeing        False   -104.692   \n",
       "\n",
       "   latitude  is_geocoding_exact  day  month  year        yll  \n",
       "0    47.247                True    2      1  2015  28.200001  \n",
       "1    45.487                True    2      1  2015  26.700001  \n",
       "2    37.695                True    3      1  2015  51.400002  \n",
       "3    37.763                True    4      1  2015  41.700001  \n",
       "4    40.384                True    4      1  2015  35.400002  "
      ]
     },
     "execution_count": 29,
     "metadata": {},
     "output_type": "execute_result"
    }
   ],
   "source": [
    "dataset.head()"
   ]
  },
  {
   "cell_type": "code",
   "execution_count": 30,
   "id": "fe36d802-dcce-462d-b9e1-2bc455cf6492",
   "metadata": {},
   "outputs": [
    {
     "data": {
      "image/png": "[encoded data removed]",
      "text/plain": [
       "<Figure size 1200x500 with 1 Axes>"
      ]
     },
     "metadata": {},
     "output_type": "display_data"
    }
   ],
   "source": [
    "dataset[categorical_features].nunique().sort_values(ascending = False).plot.bar(figsize = (12, 5))\n",
    "\n",
    "plt.show()"
   ]
  },
  {
   "cell_type": "code",
   "execution_count": 31,
   "id": "f906655f-c298-4407-becc-276d000b9d11",
   "metadata": {},
   "outputs": [
    {
     "data": {
      "image/png": "[encoded data removed]",
      "text/plain": [
       "<Figure size 1200x500 with 1 Axes>"
      ]
     },
     "metadata": {},
     "output_type": "display_data"
    }
   ],
   "source": [
    "dataset.drop(['city', 'state'], axis = 1, inplace = True)\n",
    "categorical_features.remove('city')\n",
    "categorical_features.remove('state')\n",
    "\n",
    "dataset[categorical_features].nunique().sort_values(ascending = False).plot.bar(figsize = (12, 5))\n",
    "\n",
    "plt.show()"
   ]
  },
  {
   "cell_type": "code",
   "execution_count": 32,
   "id": "cbd8b073-70c7-45a1-a307-9cbf3c2f4a34",
   "metadata": {},
   "outputs": [],
   "source": [
    "dataset['flee'] = dataset['flee'].map({'Not fleeing': 'Not_fleeing', 'Foot': 'Foot', 'Car': 'Car', 'Other': 'Other'})"
   ]
  },
  {
   "cell_type": "code",
   "execution_count": 33,
   "id": "5165acdb-35a9-4a3d-ac6c-83f3aff4810d",
   "metadata": {},
   "outputs": [
    {
     "data": {
      "text/plain": [
       "array(['gun', 'unarmed', 'toy weapon', 'nail gun', 'knife', 'shovel',\n",
       "       'vehicle', 'hammer', 'hatchet', 'sword', 'machete', 'box cutter',\n",
       "       'undetermined', 'metal object', 'screwdriver', 'lawn mower blade',\n",
       "       'flagpole', 'guns and explosives', 'cordless drill', 'BB gun',\n",
       "       'metal pole', 'Taser', 'metal pipe', 'metal hand tool',\n",
       "       'blunt object', 'metal stick', 'sharp object', 'meat cleaver',\n",
       "       'carjack', 'chain', \"contractor's level\", 'railroad spikes',\n",
       "       'stapler', 'beer bottle', 'crossbow', 'unknown weapon',\n",
       "       'binoculars', 'pellet gun', 'bean-bag gun',\n",
       "       'baseball bat and fireplace poker', 'straight edge razor',\n",
       "       'gun and knife', 'ax', 'brick', 'baseball bat', 'hand torch',\n",
       "       'chain saw', 'garden tool', 'pair of scissors', 'pole', 'pick-axe',\n",
       "       'flashlight', 'spear', 'chair', 'pitchfork', 'hatchet and gun',\n",
       "       'rock', 'piece of wood', 'glass shard', 'motorcycle',\n",
       "       'pepper spray', 'metal rake', 'baton', 'crowbar', 'oar',\n",
       "       'machete and gun', 'air conditioner', 'pole and knife', 'pipe',\n",
       "       'baseball bat and bottle', 'fireworks', 'pen', 'chainsaw',\n",
       "       'gun and sword', 'gun and car', 'incendiary device',\n",
       "       'samurai sword', 'bow and arrow', 'gun and vehicle',\n",
       "       'vehicle and gun', 'wrench', 'walking stick', 'barstool',\n",
       "       'BB gun and vehicle', 'wasp spray', 'air pistol',\n",
       "       'vehicle and machete', 'ice pick', 'tire iron', 'bottle',\n",
       "       'gun and machete', 'Airsoft pistol', 'knife and vehicle',\n",
       "       'ax and machete', 'flare gun'], dtype=object)"
      ]
     },
     "execution_count": 33,
     "metadata": {},
     "output_type": "execute_result"
    }
   ],
   "source": [
    "dataset['armed'].unique()"
   ]
  },
  {
   "cell_type": "code",
   "execution_count": 34,
   "id": "1bddacd4-f6f6-4a13-917b-613559b18631",
   "metadata": {},
   "outputs": [
    {
     "data": {
      "text/plain": [
       "95"
      ]
     },
     "execution_count": 34,
     "metadata": {},
     "output_type": "execute_result"
    }
   ],
   "source": [
    "len(['gun', 'unarmed', 'toy weapon', 'nail gun', 'knife', 'shovel',\n",
    "       'vehicle', 'hammer', 'hatchet', 'sword', 'machete', 'box cutter',\n",
    "       'undetermined', 'metal object', 'screwdriver', 'lawn mower blade',\n",
    "       'flagpole', 'guns and explosives', 'cordless drill', 'BB gun',\n",
    "       'metal pole', 'Taser', 'metal pipe', 'metal hand tool',\n",
    "       'blunt object', 'metal stick', 'sharp object', 'meat cleaver',\n",
    "       'carjack', 'chain', \"contractor's level\", 'railroad spikes',\n",
    "       'stapler', 'beer bottle', 'crossbow', 'unknown weapon',\n",
    "       'binoculars', 'pellet gun', 'bean-bag gun',\n",
    "       'baseball bat and fireplace poker', 'straight edge razor',\n",
    "       'gun and knife', 'ax', 'brick', 'baseball bat', 'hand torch',\n",
    "       'chain saw', 'garden tool', 'pair of scissors', 'pole', 'pick-axe',\n",
    "       'flashlight', 'spear', 'chair', 'pitchfork', 'hatchet and gun',\n",
    "       'rock', 'piece of wood', 'glass shard', 'motorcycle',\n",
    "       'pepper spray', 'metal rake', 'baton', 'crowbar', 'oar',\n",
    "       'machete and gun', 'air conditioner', 'pole and knife', 'pipe',\n",
    "       'baseball bat and bottle', 'fireworks', 'pen', 'chainsaw',\n",
    "       'gun and sword', 'gun and car', 'incendiary device',\n",
    "       'samurai sword', 'bow and arrow', 'gun and vehicle',\n",
    "       'vehicle and gun', 'wrench', 'walking stick', 'barstool',\n",
    "       'BB gun and vehicle', 'wasp spray', 'air pistol',\n",
    "       'vehicle and machete', 'ice pick', 'tire iron', 'bottle',\n",
    "       'gun and machete', 'Airsoft pistol', 'knife and vehicle',\n",
    "       'ax and machete', 'flare gun'])"
   ]
  },
  {
   "cell_type": "markdown",
   "id": "46fc17c3-34da-435f-abcd-ceb68483b295",
   "metadata": {},
   "source": [
    "## Making groups in armed feature"
   ]
  },
  {
   "cell_type": "markdown",
   "id": "d040f6eb-1cfa-4a16-a66f-4e88e5b45984",
   "metadata": {},
   "source": [
    "**Since there are 95 unique types of weapons are there, I am making them into few groups to reduce the dimension of our dataset.**"
   ]
  },
  {
   "cell_type": "code",
   "execution_count": 35,
   "id": "8eac0ce5-2c51-46d7-974f-3da56d0a7b02",
   "metadata": {},
   "outputs": [
    {
     "data": {
      "text/plain": [
       "manner_of_death            0\n",
       "armed                      0\n",
       "age                        0\n",
       "gender                     0\n",
       "race                       0\n",
       "signs_of_mental_illness    0\n",
       "threat_level               0\n",
       "flee                       0\n",
       "body_camera                0\n",
       "longitude                  0\n",
       "latitude                   0\n",
       "is_geocoding_exact         0\n",
       "day                        0\n",
       "month                      0\n",
       "year                       0\n",
       "yll                        0\n",
       "dtype: int64"
      ]
     },
     "execution_count": 35,
     "metadata": {},
     "output_type": "execute_result"
    }
   ],
   "source": [
    "dataset.isnull().sum()"
   ]
  },
  {
   "cell_type": "code",
   "execution_count": 36,
   "id": "25b71989-087d-4c39-85bd-dae254d4bb4a",
   "metadata": {},
   "outputs": [
    {
     "data": {
      "image/png": "[encoded data removed]",
      "text/plain": [
       "<Figure size 1200x500 with 1 Axes>"
      ]
     },
     "metadata": {},
     "output_type": "display_data"
    }
   ],
   "source": [
    "armed_categories = {\n",
    "    'Firearms': ['gun', 'BB gun', 'pellet gun', 'guns and explosives', 'Taser', 'air pistol', 'flare gun', 'Airsoft pistol'],\n",
    "    \n",
    "    'Edged_Weapons': ['knife', 'sword', 'machete', 'hatchet', 'sharp object', 'straight edge razor', 'samurai sword', \n",
    "                      'meat cleaver', 'knife and vehicle', 'ax', 'hatchet and gun', 'gun and machete', 'gun and sword', \n",
    "                      'ax and machete', 'vehicle', 'box cutter', 'gun and knife', 'chain saw', 'spear'],\n",
    "    \n",
    "    'Blunt_Objects': ['hammer', 'baseball bat', 'baseball bat and bottle', 'barstool', 'baseball bat and fireplace poker', \n",
    "                      'shovel', 'blunt object', 'crowbar', 'pick-axe', 'piece of wood'],\n",
    "    \n",
    "    'Tools_and_Construction_Items': ['cordless drill', 'metal pole', 'metal object', 'metal stick', 'chain', \"contractor's level\", \n",
    "                                     'railroad spikes', 'stapler', 'chainsaw', 'wrench', 'metal rake', 'cordless drill', \n",
    "                                     'garden tool'],\n",
    "    \n",
    "    'Improvised_Weapons': ['chair', 'brick', 'rock', 'pole', 'flashlight', 'pen', 'beer bottle', 'lawn mower blade', 'pitchfork', \n",
    "                           'bow and arrow', 'railroad spikes', 'bottle', 'flagpole', 'ice pick', 'oar', 'air conditioner', \n",
    "                           'fireworks', 'incendiary device', 'chainsaw', 'pepper spray'],\n",
    "    \n",
    "    'Non_lethal_Weapons': ['Taser', 'pair of scissors', 'baton', 'bean-bag gun', 'Airsoft pistol'],\n",
    "    \n",
    "    'Not_Weapons': ['unarmed', 'toy weapon', 'nail gun', 'undetermined', 'screwdriver', 'carjack', 'unknown weapon', 'binoculars', \n",
    "    'pellet gun', 'metal hand tool', 'hand torch', 'metal pipe', 'pole and knife', 'pipe', 'vehicle and machete', 'wasp spray', \n",
    "    'motorcycle', 'walking stick', 'tire iron'],\n",
    "    \n",
    "    'Miscellaneous_Weapons': ['crossbow', 'glass shard', 'shovel', 'machete and gun', 'gun and car', 'gun and vehicle', \n",
    "                              'vehicle and gun', 'BB gun and vehicle'],\n",
    "}\n",
    "\n",
    "# Creating a dictionary to map items to their categories\n",
    "item_to_category = {}\n",
    "for category, items in armed_categories.items():\n",
    "    for item in items:\n",
    "        item_to_category[item] = category\n",
    "\n",
    "dataset['armed'] = dataset['armed'].map(item_to_category)\n",
    "\n",
    "dataset[categorical_features].nunique().sort_values(ascending = False).plot.bar(figsize = (12, 5))\n",
    "plt.show()"
   ]
  },
  {
   "cell_type": "code",
   "execution_count": null,
   "id": "332b38ba-62c7-48e0-8140-51ff57aae342",
   "metadata": {},
   "outputs": [],
   "source": []
  },
  {
   "cell_type": "markdown",
   "id": "8f9c39cc-eb18-4ba5-a3c0-856e1209cdff",
   "metadata": {},
   "source": [
    "# Numerical Features"
   ]
  },
  {
   "cell_type": "code",
   "execution_count": 37,
   "id": "ca74eabb-a111-48c2-b89a-a3f50fde4183",
   "metadata": {},
   "outputs": [],
   "source": [
    "dataset.drop(['day', 'month', 'year'], axis = 1, inplace = True)"
   ]
  },
  {
   "cell_type": "code",
   "execution_count": 38,
   "id": "27d3f312-4e14-43b4-bd53-e9eb0efa8479",
   "metadata": {},
   "outputs": [
    {
     "data": {
      "image/png": "[encoded data removed]",
      "text/plain": [
       "<Figure size 640x480 with 4 Axes>"
      ]
     },
     "metadata": {},
     "output_type": "display_data"
    }
   ],
   "source": [
    "numerical_features.remove('day')\n",
    "numerical_features.remove('month')\n",
    "numerical_features.remove('year')\n",
    "\n",
    "dataset[numerical_features].hist()\n",
    "\n",
    "plt.show()"
   ]
  },
  {
   "cell_type": "code",
   "execution_count": null,
   "id": "cedac3c1-ba55-43b1-901e-13aa30179aa8",
   "metadata": {},
   "outputs": [],
   "source": []
  },
  {
   "cell_type": "markdown",
   "id": "7e48e9df-fdf1-45b4-8e8d-5f52639f019e",
   "metadata": {},
   "source": [
    "# Categorical Features"
   ]
  },
  {
   "cell_type": "code",
   "execution_count": 39,
   "id": "370c4984-c8ae-4183-ba11-c139f2d66144",
   "metadata": {},
   "outputs": [
    {
     "name": "stdout",
     "output_type": "stream",
     "text": [
      "<class 'pandas.core.frame.DataFrame'>\n",
      "Index: 5194 entries, 0 to 7990\n",
      "Data columns (total 13 columns):\n",
      " #   Column                   Non-Null Count  Dtype  \n",
      "---  ------                   --------------  -----  \n",
      " 0   manner_of_death          5194 non-null   object \n",
      " 1   armed                    5194 non-null   object \n",
      " 2   age                      5194 non-null   float64\n",
      " 3   gender                   5194 non-null   object \n",
      " 4   race                     5194 non-null   object \n",
      " 5   signs_of_mental_illness  5194 non-null   bool   \n",
      " 6   threat_level             5194 non-null   object \n",
      " 7   flee                     5194 non-null   object \n",
      " 8   body_camera              5194 non-null   bool   \n",
      " 9   longitude                5194 non-null   float64\n",
      " 10  latitude                 5194 non-null   float64\n",
      " 11  is_geocoding_exact       5194 non-null   bool   \n",
      " 12  yll                      5194 non-null   float32\n",
      "dtypes: bool(3), float32(1), float64(3), object(6)\n",
      "memory usage: 441.3+ KB\n"
     ]
    }
   ],
   "source": [
    "dataset.info()"
   ]
  },
  {
   "cell_type": "code",
   "execution_count": 40,
   "id": "bda364ee-05a7-4bab-9cdf-d8e425334e7f",
   "metadata": {},
   "outputs": [],
   "source": [
    "dataset['signs_of_mental_illness'] = dataset['signs_of_mental_illness'].astype('object')\n",
    "dataset['body_camera'] = dataset['body_camera'].astype('object')\n",
    "dataset['is_geocoding_exact'] = dataset['is_geocoding_exact'].astype('object')"
   ]
  },
  {
   "cell_type": "code",
   "execution_count": 41,
   "id": "a697a117-cd0b-4f99-a085-497f90b3dcc4",
   "metadata": {},
   "outputs": [
    {
     "data": {
      "text/html": [
       "<div>\n",
       "<style scoped>\n",
       "    .dataframe tbody tr th:only-of-type {\n",
       "        vertical-align: middle;\n",
       "    }\n",
       "\n",
       "    .dataframe tbody tr th {\n",
       "        vertical-align: top;\n",
       "    }\n",
       "\n",
       "    .dataframe thead th {\n",
       "        text-align: right;\n",
       "    }\n",
       "</style>\n",
       "<table border=\"1\" class=\"dataframe\">\n",
       "  <thead>\n",
       "    <tr style=\"text-align: right;\">\n",
       "      <th></th>\n",
       "      <th>age</th>\n",
       "      <th>longitude</th>\n",
       "      <th>latitude</th>\n",
       "      <th>yll</th>\n",
       "      <th>manner_of_death_shot</th>\n",
       "      <th>armed_Firearms</th>\n",
       "      <th>armed_Not_Weapons</th>\n",
       "      <th>armed_Edged_Weapons</th>\n",
       "      <th>armed_Miscellaneous_Weapons</th>\n",
       "      <th>armed_Blunt_Objects</th>\n",
       "      <th>armed_Tools_and_Construction_Items</th>\n",
       "      <th>armed_Improvised_Weapons</th>\n",
       "      <th>gender_M</th>\n",
       "      <th>race_A</th>\n",
       "      <th>race_W</th>\n",
       "      <th>race_H</th>\n",
       "      <th>race_B</th>\n",
       "      <th>signs_of_mental_illness_True</th>\n",
       "      <th>threat_level_attack</th>\n",
       "      <th>threat_level_other</th>\n",
       "      <th>flee_Not_fleeing</th>\n",
       "      <th>flee_Car</th>\n",
       "      <th>flee_Foot</th>\n",
       "      <th>body_camera_False</th>\n",
       "      <th>is_geocoding_exact_True</th>\n",
       "    </tr>\n",
       "  </thead>\n",
       "  <tbody>\n",
       "    <tr>\n",
       "      <th>0</th>\n",
       "      <td>53.0</td>\n",
       "      <td>-123.122</td>\n",
       "      <td>47.247</td>\n",
       "      <td>28.200001</td>\n",
       "      <td>1</td>\n",
       "      <td>1</td>\n",
       "      <td>0</td>\n",
       "      <td>0</td>\n",
       "      <td>0</td>\n",
       "      <td>0</td>\n",
       "      <td>0</td>\n",
       "      <td>0</td>\n",
       "      <td>1</td>\n",
       "      <td>1</td>\n",
       "      <td>0</td>\n",
       "      <td>0</td>\n",
       "      <td>0</td>\n",
       "      <td>1</td>\n",
       "      <td>1</td>\n",
       "      <td>0</td>\n",
       "      <td>1</td>\n",
       "      <td>0</td>\n",
       "      <td>0</td>\n",
       "      <td>1</td>\n",
       "      <td>1</td>\n",
       "    </tr>\n",
       "    <tr>\n",
       "      <th>1</th>\n",
       "      <td>47.0</td>\n",
       "      <td>-122.892</td>\n",
       "      <td>45.487</td>\n",
       "      <td>26.700001</td>\n",
       "      <td>1</td>\n",
       "      <td>1</td>\n",
       "      <td>0</td>\n",
       "      <td>0</td>\n",
       "      <td>0</td>\n",
       "      <td>0</td>\n",
       "      <td>0</td>\n",
       "      <td>0</td>\n",
       "      <td>1</td>\n",
       "      <td>0</td>\n",
       "      <td>1</td>\n",
       "      <td>0</td>\n",
       "      <td>0</td>\n",
       "      <td>0</td>\n",
       "      <td>1</td>\n",
       "      <td>0</td>\n",
       "      <td>1</td>\n",
       "      <td>0</td>\n",
       "      <td>0</td>\n",
       "      <td>1</td>\n",
       "      <td>1</td>\n",
       "    </tr>\n",
       "    <tr>\n",
       "      <th>2</th>\n",
       "      <td>23.0</td>\n",
       "      <td>-97.281</td>\n",
       "      <td>37.695</td>\n",
       "      <td>51.400002</td>\n",
       "      <td>0</td>\n",
       "      <td>0</td>\n",
       "      <td>1</td>\n",
       "      <td>0</td>\n",
       "      <td>0</td>\n",
       "      <td>0</td>\n",
       "      <td>0</td>\n",
       "      <td>0</td>\n",
       "      <td>1</td>\n",
       "      <td>0</td>\n",
       "      <td>0</td>\n",
       "      <td>1</td>\n",
       "      <td>0</td>\n",
       "      <td>0</td>\n",
       "      <td>0</td>\n",
       "      <td>1</td>\n",
       "      <td>1</td>\n",
       "      <td>0</td>\n",
       "      <td>0</td>\n",
       "      <td>1</td>\n",
       "      <td>1</td>\n",
       "    </tr>\n",
       "    <tr>\n",
       "      <th>3</th>\n",
       "      <td>32.0</td>\n",
       "      <td>-122.422</td>\n",
       "      <td>37.763</td>\n",
       "      <td>41.700001</td>\n",
       "      <td>1</td>\n",
       "      <td>0</td>\n",
       "      <td>1</td>\n",
       "      <td>0</td>\n",
       "      <td>0</td>\n",
       "      <td>0</td>\n",
       "      <td>0</td>\n",
       "      <td>0</td>\n",
       "      <td>1</td>\n",
       "      <td>0</td>\n",
       "      <td>1</td>\n",
       "      <td>0</td>\n",
       "      <td>0</td>\n",
       "      <td>1</td>\n",
       "      <td>1</td>\n",
       "      <td>0</td>\n",
       "      <td>1</td>\n",
       "      <td>0</td>\n",
       "      <td>0</td>\n",
       "      <td>1</td>\n",
       "      <td>1</td>\n",
       "    </tr>\n",
       "    <tr>\n",
       "      <th>4</th>\n",
       "      <td>39.0</td>\n",
       "      <td>-104.692</td>\n",
       "      <td>40.384</td>\n",
       "      <td>35.400002</td>\n",
       "      <td>1</td>\n",
       "      <td>0</td>\n",
       "      <td>1</td>\n",
       "      <td>0</td>\n",
       "      <td>0</td>\n",
       "      <td>0</td>\n",
       "      <td>0</td>\n",
       "      <td>0</td>\n",
       "      <td>1</td>\n",
       "      <td>0</td>\n",
       "      <td>0</td>\n",
       "      <td>1</td>\n",
       "      <td>0</td>\n",
       "      <td>0</td>\n",
       "      <td>1</td>\n",
       "      <td>0</td>\n",
       "      <td>1</td>\n",
       "      <td>0</td>\n",
       "      <td>0</td>\n",
       "      <td>1</td>\n",
       "      <td>1</td>\n",
       "    </tr>\n",
       "  </tbody>\n",
       "</table>\n",
       "</div>"
      ],
      "text/plain": [
       "    age  longitude  latitude        yll  manner_of_death_shot  armed_Firearms  \\\n",
       "0  53.0   -123.122    47.247  28.200001                     1               1   \n",
       "1  47.0   -122.892    45.487  26.700001                     1               1   \n",
       "2  23.0    -97.281    37.695  51.400002                     0               0   \n",
       "3  32.0   -122.422    37.763  41.700001                     1               0   \n",
       "4  39.0   -104.692    40.384  35.400002                     1               0   \n",
       "\n",
       "   armed_Not_Weapons  armed_Edged_Weapons  armed_Miscellaneous_Weapons  \\\n",
       "0                  0                    0                            0   \n",
       "1                  0                    0                            0   \n",
       "2                  1                    0                            0   \n",
       "3                  1                    0                            0   \n",
       "4                  1                    0                            0   \n",
       "\n",
       "   armed_Blunt_Objects  armed_Tools_and_Construction_Items  \\\n",
       "0                    0                                   0   \n",
       "1                    0                                   0   \n",
       "2                    0                                   0   \n",
       "3                    0                                   0   \n",
       "4                    0                                   0   \n",
       "\n",
       "   armed_Improvised_Weapons  gender_M  race_A  race_W  race_H  race_B  \\\n",
       "0                         0         1       1       0       0       0   \n",
       "1                         0         1       0       1       0       0   \n",
       "2                         0         1       0       0       1       0   \n",
       "3                         0         1       0       1       0       0   \n",
       "4                         0         1       0       0       1       0   \n",
       "\n",
       "   signs_of_mental_illness_True  threat_level_attack  threat_level_other  \\\n",
       "0                             1                    1                   0   \n",
       "1                             0                    1                   0   \n",
       "2                             0                    0                   1   \n",
       "3                             1                    1                   0   \n",
       "4                             0                    1                   0   \n",
       "\n",
       "   flee_Not_fleeing  flee_Car  flee_Foot  body_camera_False  \\\n",
       "0                 1         0          0                  1   \n",
       "1                 1         0          0                  1   \n",
       "2                 1         0          0                  1   \n",
       "3                 1         0          0                  1   \n",
       "4                 1         0          0                  1   \n",
       "\n",
       "   is_geocoding_exact_True  \n",
       "0                        1  \n",
       "1                        1  \n",
       "2                        1  \n",
       "3                        1  \n",
       "4                        1  "
      ]
     },
     "execution_count": 41,
     "metadata": {},
     "output_type": "execute_result"
    }
   ],
   "source": [
    "from feature_engine.encoding import OneHotEncoder\n",
    "\n",
    "encoder = OneHotEncoder(variables = categorical_features, drop_last = True)\n",
    "dataset = encoder.fit_transform(dataset)\n",
    "\n",
    "dataset.head()"
   ]
  },
  {
   "cell_type": "code",
   "execution_count": 42,
   "id": "d2d6b385-8dde-4a78-861e-383209247b78",
   "metadata": {},
   "outputs": [
    {
     "data": {
      "text/plain": [
       "age                                   0\n",
       "longitude                             0\n",
       "latitude                              0\n",
       "yll                                   0\n",
       "manner_of_death_shot                  0\n",
       "armed_Firearms                        0\n",
       "armed_Not_Weapons                     0\n",
       "armed_Edged_Weapons                   0\n",
       "armed_Miscellaneous_Weapons           0\n",
       "armed_Blunt_Objects                   0\n",
       "armed_Tools_and_Construction_Items    0\n",
       "armed_Improvised_Weapons              0\n",
       "gender_M                              0\n",
       "race_A                                0\n",
       "race_W                                0\n",
       "race_H                                0\n",
       "race_B                                0\n",
       "signs_of_mental_illness_True          0\n",
       "threat_level_attack                   0\n",
       "threat_level_other                    0\n",
       "flee_Not_fleeing                      0\n",
       "flee_Car                              0\n",
       "flee_Foot                             0\n",
       "body_camera_False                     0\n",
       "is_geocoding_exact_True               0\n",
       "dtype: int64"
      ]
     },
     "execution_count": 42,
     "metadata": {},
     "output_type": "execute_result"
    }
   ],
   "source": [
    "dataset.isnull().sum()"
   ]
  },
  {
   "cell_type": "code",
   "execution_count": null,
   "id": "4bd98066-33e2-467e-a473-abfdeb79473f",
   "metadata": {},
   "outputs": [],
   "source": []
  },
  {
   "cell_type": "markdown",
   "id": "04cf1184-44db-4d7e-8361-eb281eb9affd",
   "metadata": {},
   "source": [
    "# Feature Scaling"
   ]
  },
  {
   "cell_type": "code",
   "execution_count": 43,
   "id": "7c1cada4-eb9c-4713-9524-b6579a7958c9",
   "metadata": {},
   "outputs": [
    {
     "data": {
      "text/html": [
       "<div>\n",
       "<style scoped>\n",
       "    .dataframe tbody tr th:only-of-type {\n",
       "        vertical-align: middle;\n",
       "    }\n",
       "\n",
       "    .dataframe tbody tr th {\n",
       "        vertical-align: top;\n",
       "    }\n",
       "\n",
       "    .dataframe thead th {\n",
       "        text-align: right;\n",
       "    }\n",
       "</style>\n",
       "<table border=\"1\" class=\"dataframe\">\n",
       "  <thead>\n",
       "    <tr style=\"text-align: right;\">\n",
       "      <th></th>\n",
       "      <th>age</th>\n",
       "      <th>longitude</th>\n",
       "      <th>latitude</th>\n",
       "      <th>yll</th>\n",
       "      <th>manner_of_death_shot</th>\n",
       "      <th>armed_Firearms</th>\n",
       "      <th>armed_Not_Weapons</th>\n",
       "      <th>armed_Edged_Weapons</th>\n",
       "      <th>armed_Miscellaneous_Weapons</th>\n",
       "      <th>armed_Blunt_Objects</th>\n",
       "      <th>armed_Tools_and_Construction_Items</th>\n",
       "      <th>armed_Improvised_Weapons</th>\n",
       "      <th>gender_M</th>\n",
       "      <th>race_A</th>\n",
       "      <th>race_W</th>\n",
       "      <th>race_H</th>\n",
       "      <th>race_B</th>\n",
       "      <th>signs_of_mental_illness_True</th>\n",
       "      <th>threat_level_attack</th>\n",
       "      <th>threat_level_other</th>\n",
       "      <th>flee_Not_fleeing</th>\n",
       "      <th>flee_Car</th>\n",
       "      <th>flee_Foot</th>\n",
       "      <th>body_camera_False</th>\n",
       "      <th>is_geocoding_exact_True</th>\n",
       "    </tr>\n",
       "  </thead>\n",
       "  <tbody>\n",
       "    <tr>\n",
       "      <th>0</th>\n",
       "      <td>1.278819</td>\n",
       "      <td>-1.608274</td>\n",
       "      <td>1.981918</td>\n",
       "      <td>-0.586546</td>\n",
       "      <td>1</td>\n",
       "      <td>1</td>\n",
       "      <td>0</td>\n",
       "      <td>0</td>\n",
       "      <td>0</td>\n",
       "      <td>0</td>\n",
       "      <td>0</td>\n",
       "      <td>0</td>\n",
       "      <td>1</td>\n",
       "      <td>1</td>\n",
       "      <td>0</td>\n",
       "      <td>0</td>\n",
       "      <td>0</td>\n",
       "      <td>1</td>\n",
       "      <td>1</td>\n",
       "      <td>0</td>\n",
       "      <td>1</td>\n",
       "      <td>0</td>\n",
       "      <td>0</td>\n",
       "      <td>1</td>\n",
       "      <td>1</td>\n",
       "    </tr>\n",
       "    <tr>\n",
       "      <th>1</th>\n",
       "      <td>0.806452</td>\n",
       "      <td>-1.594280</td>\n",
       "      <td>1.652174</td>\n",
       "      <td>-0.705084</td>\n",
       "      <td>1</td>\n",
       "      <td>1</td>\n",
       "      <td>0</td>\n",
       "      <td>0</td>\n",
       "      <td>0</td>\n",
       "      <td>0</td>\n",
       "      <td>0</td>\n",
       "      <td>0</td>\n",
       "      <td>1</td>\n",
       "      <td>0</td>\n",
       "      <td>1</td>\n",
       "      <td>0</td>\n",
       "      <td>0</td>\n",
       "      <td>0</td>\n",
       "      <td>1</td>\n",
       "      <td>0</td>\n",
       "      <td>1</td>\n",
       "      <td>0</td>\n",
       "      <td>0</td>\n",
       "      <td>1</td>\n",
       "      <td>1</td>\n",
       "    </tr>\n",
       "    <tr>\n",
       "      <th>2</th>\n",
       "      <td>-1.083015</td>\n",
       "      <td>-0.036014</td>\n",
       "      <td>0.192311</td>\n",
       "      <td>1.246840</td>\n",
       "      <td>0</td>\n",
       "      <td>0</td>\n",
       "      <td>1</td>\n",
       "      <td>0</td>\n",
       "      <td>0</td>\n",
       "      <td>0</td>\n",
       "      <td>0</td>\n",
       "      <td>0</td>\n",
       "      <td>1</td>\n",
       "      <td>0</td>\n",
       "      <td>0</td>\n",
       "      <td>1</td>\n",
       "      <td>0</td>\n",
       "      <td>0</td>\n",
       "      <td>0</td>\n",
       "      <td>1</td>\n",
       "      <td>1</td>\n",
       "      <td>0</td>\n",
       "      <td>0</td>\n",
       "      <td>1</td>\n",
       "      <td>1</td>\n",
       "    </tr>\n",
       "    <tr>\n",
       "      <th>3</th>\n",
       "      <td>-0.374465</td>\n",
       "      <td>-1.565684</td>\n",
       "      <td>0.205051</td>\n",
       "      <td>0.480295</td>\n",
       "      <td>1</td>\n",
       "      <td>0</td>\n",
       "      <td>1</td>\n",
       "      <td>0</td>\n",
       "      <td>0</td>\n",
       "      <td>0</td>\n",
       "      <td>0</td>\n",
       "      <td>0</td>\n",
       "      <td>1</td>\n",
       "      <td>0</td>\n",
       "      <td>1</td>\n",
       "      <td>0</td>\n",
       "      <td>0</td>\n",
       "      <td>1</td>\n",
       "      <td>1</td>\n",
       "      <td>0</td>\n",
       "      <td>1</td>\n",
       "      <td>0</td>\n",
       "      <td>0</td>\n",
       "      <td>1</td>\n",
       "      <td>1</td>\n",
       "    </tr>\n",
       "    <tr>\n",
       "      <th>4</th>\n",
       "      <td>0.176630</td>\n",
       "      <td>-0.486926</td>\n",
       "      <td>0.696106</td>\n",
       "      <td>-0.017564</td>\n",
       "      <td>1</td>\n",
       "      <td>0</td>\n",
       "      <td>1</td>\n",
       "      <td>0</td>\n",
       "      <td>0</td>\n",
       "      <td>0</td>\n",
       "      <td>0</td>\n",
       "      <td>0</td>\n",
       "      <td>1</td>\n",
       "      <td>0</td>\n",
       "      <td>0</td>\n",
       "      <td>1</td>\n",
       "      <td>0</td>\n",
       "      <td>0</td>\n",
       "      <td>1</td>\n",
       "      <td>0</td>\n",
       "      <td>1</td>\n",
       "      <td>0</td>\n",
       "      <td>0</td>\n",
       "      <td>1</td>\n",
       "      <td>1</td>\n",
       "    </tr>\n",
       "  </tbody>\n",
       "</table>\n",
       "</div>"
      ],
      "text/plain": [
       "        age  longitude  latitude       yll  manner_of_death_shot  \\\n",
       "0  1.278819  -1.608274  1.981918 -0.586546                     1   \n",
       "1  0.806452  -1.594280  1.652174 -0.705084                     1   \n",
       "2 -1.083015  -0.036014  0.192311  1.246840                     0   \n",
       "3 -0.374465  -1.565684  0.205051  0.480295                     1   \n",
       "4  0.176630  -0.486926  0.696106 -0.017564                     1   \n",
       "\n",
       "   armed_Firearms  armed_Not_Weapons  armed_Edged_Weapons  \\\n",
       "0               1                  0                    0   \n",
       "1               1                  0                    0   \n",
       "2               0                  1                    0   \n",
       "3               0                  1                    0   \n",
       "4               0                  1                    0   \n",
       "\n",
       "   armed_Miscellaneous_Weapons  armed_Blunt_Objects  \\\n",
       "0                            0                    0   \n",
       "1                            0                    0   \n",
       "2                            0                    0   \n",
       "3                            0                    0   \n",
       "4                            0                    0   \n",
       "\n",
       "   armed_Tools_and_Construction_Items  armed_Improvised_Weapons  gender_M  \\\n",
       "0                                   0                         0         1   \n",
       "1                                   0                         0         1   \n",
       "2                                   0                         0         1   \n",
       "3                                   0                         0         1   \n",
       "4                                   0                         0         1   \n",
       "\n",
       "   race_A  race_W  race_H  race_B  signs_of_mental_illness_True  \\\n",
       "0       1       0       0       0                             1   \n",
       "1       0       1       0       0                             0   \n",
       "2       0       0       1       0                             0   \n",
       "3       0       1       0       0                             1   \n",
       "4       0       0       1       0                             0   \n",
       "\n",
       "   threat_level_attack  threat_level_other  flee_Not_fleeing  flee_Car  \\\n",
       "0                    1                   0                 1         0   \n",
       "1                    1                   0                 1         0   \n",
       "2                    0                   1                 1         0   \n",
       "3                    1                   0                 1         0   \n",
       "4                    1                   0                 1         0   \n",
       "\n",
       "   flee_Foot  body_camera_False  is_geocoding_exact_True  \n",
       "0          0                  1                        1  \n",
       "1          0                  1                        1  \n",
       "2          0                  1                        1  \n",
       "3          0                  1                        1  \n",
       "4          0                  1                        1  "
      ]
     },
     "execution_count": 43,
     "metadata": {},
     "output_type": "execute_result"
    }
   ],
   "source": [
    "from sklearn.preprocessing import StandardScaler\n",
    "\n",
    "scaler = StandardScaler()\n",
    "dataset[numerical_features] = scaler.fit_transform(dataset[numerical_features])\n",
    "\n",
    "dataset.head()"
   ]
  },
  {
   "cell_type": "code",
   "execution_count": null,
   "id": "2378a5be-440d-46b2-a8c5-53be29576d12",
   "metadata": {},
   "outputs": [],
   "source": []
  },
  {
   "cell_type": "markdown",
   "id": "f2fcfaca-9702-4c6e-850e-69020d0262f7",
   "metadata": {},
   "source": [
    "# GLM (Generalized Linear Model)"
   ]
  },
  {
   "cell_type": "markdown",
   "id": "414573d8-1abd-4b58-8735-48214c775679",
   "metadata": {},
   "source": [
    "**We don't need to perform transformation on the dependent variable to have a normal distribution.**<br>"
   ]
  },
  {
   "cell_type": "code",
   "execution_count": 44,
   "id": "ec2bfa01-7cae-4536-927d-cba4428c94cb",
   "metadata": {},
   "outputs": [
    {
     "data": {
      "text/plain": [
       "Index(['age', 'longitude', 'latitude', 'yll', 'manner_of_death_shot',\n",
       "       'armed_Firearms', 'armed_Not_Weapons', 'armed_Edged_Weapons',\n",
       "       'armed_Miscellaneous_Weapons', 'armed_Blunt_Objects',\n",
       "       'armed_Tools_and_Construction_Items', 'armed_Improvised_Weapons',\n",
       "       'gender_M', 'race_A', 'race_W', 'race_H', 'race_B',\n",
       "       'signs_of_mental_illness_True', 'threat_level_attack',\n",
       "       'threat_level_other', 'flee_Not_fleeing', 'flee_Car', 'flee_Foot',\n",
       "       'body_camera_False', 'is_geocoding_exact_True'],\n",
       "      dtype='object')"
      ]
     },
     "execution_count": 44,
     "metadata": {},
     "output_type": "execute_result"
    }
   ],
   "source": [
    "dataset.columns"
   ]
  },
  {
   "cell_type": "code",
   "execution_count": 45,
   "id": "3fe029aa-333b-44db-8e12-5e042512a74a",
   "metadata": {},
   "outputs": [],
   "source": [
    "import statsmodels.api as sm\n",
    "import statsmodels.formula.api as smf"
   ]
  },
  {
   "cell_type": "code",
   "execution_count": 46,
   "id": "856187b1-9b14-456a-b101-de193cd9d408",
   "metadata": {},
   "outputs": [
    {
     "name": "stdout",
     "output_type": "stream",
     "text": [
      "                 Generalized Linear Model Regression Results                  \n",
      "==============================================================================\n",
      "Dep. Variable:                    yll   No. Observations:                 5194\n",
      "Model:                            GLM   Df Residuals:                     5169\n",
      "Model Family:                Gaussian   Df Model:                           24\n",
      "Link Function:               Identity   Scale:                      0.00032992\n",
      "Method:                          IRLS   Log-Likelihood:                 13462.\n",
      "Date:                Wed, 08 Nov 2023   Deviance:                       1.7053\n",
      "Time:                        19:34:36   Pearson chi2:                     1.71\n",
      "No. Iterations:                     3   Pseudo R-squ. (CS):              1.000\n",
      "Covariance Type:            nonrobust                                         \n",
      "======================================================================================================\n",
      "                                         coef    std err          z      P>|z|      [0.025      0.975]\n",
      "------------------------------------------------------------------------------------------------------\n",
      "Intercept                              0.5468      0.007     74.994      0.000       0.532       0.561\n",
      "age                                   -1.0039      0.000  -3728.751      0.000      -1.004      -1.003\n",
      "longitude                           1.489e-05      0.000      0.054      0.957      -0.001       0.001\n",
      "latitude                               0.0007      0.000      2.557      0.011       0.000       0.001\n",
      "manner_of_death_shot                   0.0003      0.001      0.252      0.801      -0.002       0.003\n",
      "armed_Firearms                        -0.0020      0.003     -0.728      0.467      -0.007       0.003\n",
      "armed_Not_Weapons                     -0.0024      0.003     -0.854      0.393      -0.008       0.003\n",
      "armed_Edged_Weapons                   -0.0006      0.003     -0.200      0.842      -0.006       0.005\n",
      "armed_Miscellaneous_Weapons           -0.0020      0.004     -0.529      0.597      -0.010       0.005\n",
      "armed_Blunt_Objects                   -0.0011      0.004     -0.313      0.754      -0.008       0.006\n",
      "armed_Tools_and_Construction_Items    -0.0015      0.005     -0.300      0.764      -0.011       0.008\n",
      "armed_Improvised_Weapons              -0.0016      0.004     -0.382      0.702      -0.010       0.007\n",
      "gender_M                              -0.4839      0.001   -412.544      0.000      -0.486      -0.482\n",
      "race_A                                 0.6247      0.003    239.084      0.000       0.620       0.630\n",
      "race_W                                 0.0383      0.002     19.970      0.000       0.035       0.042\n",
      "race_H                                 0.0981      0.002     49.473      0.000       0.094       0.102\n",
      "race_B                                -0.5059      0.002   -258.553      0.000      -0.510      -0.502\n",
      "signs_of_mental_illness_True          -0.0002      0.001     -0.320      0.749      -0.001       0.001\n",
      "threat_level_attack                   -0.0005      0.002     -0.294      0.769      -0.004       0.003\n",
      "threat_level_other                     0.0004      0.002      0.256      0.798      -0.003       0.004\n",
      "flee_Not_fleeing                       0.0012      0.001      0.919      0.358      -0.001       0.004\n",
      "flee_Car                               0.0011      0.001      0.803      0.422      -0.002       0.004\n",
      "flee_Foot                             -0.0003      0.001     -0.241      0.809      -0.003       0.002\n",
      "body_camera_False                      0.0010      0.001      1.381      0.167      -0.000       0.002\n",
      "is_geocoding_exact_True            -3.737e-05      0.006     -0.006      0.995      -0.012       0.012\n",
      "======================================================================================================\n"
     ]
    }
   ],
   "source": [
    "all_features = ['age', 'longitude', 'latitude', 'manner_of_death_shot',\n",
    "       'armed_Firearms', 'armed_Not_Weapons', 'armed_Edged_Weapons',\n",
    "       'armed_Miscellaneous_Weapons', 'armed_Blunt_Objects',\n",
    "       'armed_Tools_and_Construction_Items', 'armed_Improvised_Weapons',\n",
    "       'gender_M', 'race_A', 'race_W', 'race_H', 'race_B',\n",
    "       'signs_of_mental_illness_True', 'threat_level_attack',\n",
    "       'threat_level_other', 'flee_Not_fleeing', 'flee_Car', 'flee_Foot',\n",
    "       'body_camera_False', 'is_geocoding_exact_True']\n",
    "\n",
    "model = smf.glm(formula = \"yll ~ \" + \" + \".join(all_features), \n",
    "                data = dataset, family = sm.families.Gaussian())\n",
    "\n",
    "result = model.fit()\n",
    "print(result.summary())\n",
    "\n",
    "predictions = result.predict()"
   ]
  },
  {
   "cell_type": "markdown",
   "id": "6b5e55d8-c56c-4ad0-b41d-121b6bf2990c",
   "metadata": {},
   "source": [
    "**GLMs are extension of linear regression and are commonly used for regression and classification tasks. They main idea behind GLMs is to model the relationship between a response variable and one or more predictor variables while allowing for different pdfs and link functions.**<br>\n",
    "**Link funciton is used to connect the linear predictor to the mean of the reponse variable. It can be choosen based on the nature of the data and the relationships that we want to model. For this data, I have chosed \"Identity\".**<br>\n",
    "**IRLS (Itertively Reweighted Least squares) is the optimization method I used to estimate the coefficients.**"
   ]
  },
  {
   "cell_type": "markdown",
   "id": "56e6bfc3-cdb1-4e4d-9c7f-4c639bc0e360",
   "metadata": {},
   "source": [
    "**Interpretations:**<br>\n",
    "**Intercept (0.5468):** This is the expected value of the response variable \"yll\" when all predictor variables are zero. In this context, it represents the baseline or starting value of \"yll\" when all other factors are absent or equal to zero.<br>\n",
    "**age (-1.0039):** For each one-unit increase in the \"age\" of the individual, the expected value of \"yll\" is expected to decrease by approximately 1.0039 units. This suggests that older individuals tend to have lower values of \"yll.\"<br>\n",
    "**latitude (0.0007):** A one-unit increase in \"latitude\" is associated with an increase of 0.0007 units in the expected value of \"yll.\" This means that moving north (increasing latitude) is associated with a slight increase in \"yll.\"<br>\n",
    "**gender_M (-0.4839):** If the gender of the individual is male (\"gender_M\" is 1), the expected value of \"yll\" is expected to be approximately 0.4839 units lower compared to a female (\"gender_M\" is 0), holding all other variables constant.<br>\n",
    "**race_A (0.6247):** Individuals of race \"A\" are expected to have a \"yll\" value that is approximately 0.6247 units higher than individuals of other races (e.g., compared to \"race_W,\" \"race_H,\" and \"race_B\"), holding all other variables constant.<br>\n",
    "**body_camera_False (0.0010):** If \"body_camera_False\" is true (1), it's associated with an expected increase of 0.0010 units in \"yll\" compared to when \"body_camera_False\" is false (0), holding all other variables constant. This suggests that when body cameras are not used, \"yll\" is slightly higher.<br>"
   ]
  },
  {
   "cell_type": "markdown",
   "id": "449e0f3d-7a0b-40df-bb0e-9302f90c4516",
   "metadata": {},
   "source": [
    "**Degrees of Freedom Residual (df residual = 5169):** It represents the number of data points that can vary freely once our model's parameters have been estimated. For this model 5169 degrees of freedom are left after fitting the model, which suggests that the model is relatively simple in terms of parameter estimation, given the large dataset size.\n",
    "**Degrees of Freedom Model (df model = 24):** It indicates the number of parameters or predictor variables in your GLM model. We have 24 predictor variables included in the model.<br>\n",
    "**Log-Likelihood (13462.0):** The log-likelihood value is a measure of how well the GLM fits the data. A higher log-likelihood value suggests a better fit, and the value of 13462.0 indicates a relatively good fit to the data.<br>\n",
    "**Deviance (1.7):** The deviance is a measure of the goodness of fit, with a smaller value indicating a better fit. For deviance 1.7 suggests that the model provides a reasonable explanation of the data.<br>\n",
    "**Pearson Chi-squared (1.71):** The Pearson chi-squared statistic is another measure of goodness of fit. It's similar to the deviance and provides additional information on how well the model fits the data. A value close to the deviance suggests a reasonable fit.<br>\n",
    "**Pseudo R-squared (1.00):** It suggests that our model explains all of the variance in the data."
   ]
  },
  {
   "cell_type": "code",
   "execution_count": 51,
   "id": "6b86c782-990d-42ca-9d35-87d9ff945061",
   "metadata": {},
   "outputs": [
    {
     "data": {
      "image/png": "[encoded data removed]",
      "text/plain": [
       "<Figure size 1000x500 with 1 Axes>"
      ]
     },
     "metadata": {},
     "output_type": "display_data"
    }
   ],
   "source": [
    "plt.figure(figsize = (10, 5))\n",
    "\n",
    "sns.scatterplot(x = dataset['yll'], y = predictions)\n",
    "\n",
    "\n",
    "\n",
    "plt.xlabel('True YLL')\n",
    "plt.ylabel('Predicted YLL')\n",
    "\n",
    "plt.show()"
   ]
  },
  {
   "cell_type": "markdown",
   "id": "fd86e57a-9e1d-47af-9577-2cbc1da1c14d",
   "metadata": {},
   "source": [
    "**There is a strong linear positive pattern and a positive linear relationship between the original values and the predictions.**<br>\n",
    "**It suggests that the model's predictions are unbiased, and the residuals are randomly scattered around zero.**"
   ]
  },
  {
   "cell_type": "code",
   "execution_count": null,
   "id": "f74f1963-a59d-4f3b-9fff-a0d9f478f93c",
   "metadata": {},
   "outputs": [],
   "source": []
  },
  {
   "cell_type": "code",
   "execution_count": null,
   "id": "b33cff8d-b2be-49bf-a5ad-044b8a7906fc",
   "metadata": {
    "editable": true,
    "slideshow": {
     "slide_type": ""
    },
    "tags": []
   },
   "outputs": [],
   "source": []
  }
 ],
 "metadata": {
  "kernelspec": {
   "display_name": "Python 3 (ipykernel)",
   "language": "python",
   "name": "python3"
  },
  "language_info": {
   "codemirror_mode": {
    "name": "ipython",
    "version": 3
   },
   "file_extension": ".py",
   "mimetype": "text/x-python",
   "name": "python",
   "nbconvert_exporter": "python",
   "pygments_lexer": "ipython3",
   "version": "3.11.5"
  }
 },
 "nbformat": 4,
 "nbformat_minor": 5
}
